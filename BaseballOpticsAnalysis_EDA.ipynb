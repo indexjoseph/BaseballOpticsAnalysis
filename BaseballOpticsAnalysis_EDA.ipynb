{
 "cells": [
  {
   "cell_type": "markdown",
   "metadata": {
    "id": "YvIx4lE4-KtT"
   },
   "source": [
    "We randomly select 10 indicies from the validation dataset without replacement. We then iterate through the 10 randomly selected indices to process and display corresponding images. We then print each image with a label of the call and the predicted call. This creates an sample of some visualizations to inspect the model's predictions. This vizualiztion allows for a closer inspection of the model's predictions which is essential for debugging, fine-tuning and understanding the model's behavior."
   ]
  },
  {
   "cell_type": "markdown",
   "metadata": {
    "id": "kA2PKRWA-KtU"
   },
   "source": [
    "The meausres how well the trained model generalizes to unseen data by caluculationg the loss and accuracy on the test dataset. This ensures the model performs well on unseen data not just the training data. we can use this to diagnose issues like underfitting or overconfidence."
   ]
  },
  {
   "cell_type": "markdown",
   "metadata": {
    "id": "939oo4zUweUj"
   },
   "source": [
    "  ### **Final Project**: Baseball Optics Analysis - Exploratory Data Analysis\n",
    "   - Name: Andrew Lang, Joseph Oladeji, Richard Prange\n",
    "   - Class Name: MATH475 - Statistical Machine Learning"
   ]
  },
  {
   "cell_type": "markdown",
   "metadata": {
    "id": "c3CMZGldw73I"
   },
   "source": [
    "The **Track_Combo.csv** dataset contains **3,344** observations with **141 columns** from 21 different scrimmages. It includes detailed pitch-level data from college baseball scrimmages, recorded by TrackMan V3. The dataset also captures various pitch characteristics, such as the pitcher's and batter's information, pitch speed, trajectory, and confidence metrics as well as both numerical and categorical fields, and includes confidence ratings on certain metrics.\n",
    "\n",
    "We are interested in called balls and strikes. Thus to do this we will go through a proces of eliminating pictches and columns not needed for our classification needs.\n",
    "\n",
    "Reference:\n",
    "\n",
    "Pifer, N. D. P. (2024, September 16). Optical tracking data from college baseball scrimmages. Mendeley Data. https://data.mendeley.com/datasets/xfnz6mkdzm/3"
   ]
  },
  {
   "cell_type": "code",
   "execution_count": 51,
   "metadata": {
    "colab": {
     "base_uri": "https://localhost:8080/"
    },
    "id": "SBbo7GZWq2-q",
    "outputId": "9866942f-8da1-4c8b-fd52-4b2d98e15418"
   },
   "outputs": [
    {
     "name": "stdout",
     "output_type": "stream",
     "text": [
      "Missing values before filtering:\n",
      "PitchCall         0\n",
      "PlateLocHeight    5\n",
      "PlateLocSide      5\n",
      "dtype: int64\n",
      "\n",
      "Dataset shape before dropping missing values: (3344, 3)\n",
      "\n",
      "Dataset shape after dropping missing values: (3339, 3)\n",
      "       PitchCall  PlateLocHeight  PlateLocSide\n",
      "2   StrikeCalled         2.30084      -0.80157\n",
      "4     BallCalled         2.89414      -1.49088\n",
      "10    BallCalled         1.00717      -0.16006\n",
      "13    BallCalled         0.34854      -2.32798\n",
      "15    BallCalled         0.70726      -2.10070\n",
      "(1854, 3)\n"
     ]
    }
   ],
   "source": [
    "# Remove unessicary columns before eda\n",
    "import pandas as pd\n",
    "\n",
    "# Read the data\n",
    "baseball_data = pd.read_csv(\"Track_Combo.csv\")\n",
    "cols_to_not_drop = [\"PitchCall\", \"PlateLocHeight\", \"PlateLocSide\"]\n",
    "\n",
    "\n",
    "# remove all of the colums that dont pertain to the outcome of the pitch and its location\n",
    "classification_needs = baseball_data[cols_to_not_drop]\n",
    "\n",
    "# Check for missing values in the dataset\n",
    "missing_values = classification_needs.isnull().sum()\n",
    "print(\"Missing values before filtering:\")\n",
    "print(missing_values)\n",
    "\n",
    "\n",
    "# Dropping rows with missing values\n",
    "print(\"\\nDataset shape before dropping missing values:\", classification_needs.shape)\n",
    "df_no_null = classification_needs.dropna()\n",
    "print(\"\\nDataset shape after dropping missing values:\", df_no_null.shape)\n",
    "\n",
    "# Removing the un needed pitch calls\n",
    "# We dont want foul ball, strike swinging, etc as the location of those pitches may throw the model off\n",
    "df_filtered = df_no_null[df_no_null[\"PitchCall\"].isin(['StrikeCalled', 'BallCalled'])]\n",
    "\n",
    "\n",
    "\n",
    "\n",
    "print(df_filtered.head())\n",
    "print(df_filtered.shape)\n",
    "\n"
   ]
  },
  {
   "cell_type": "markdown",
   "metadata": {},
   "source": [
    "We removed all of the columns besides te ones we needed and removed 5 rows with null values. "
   ]
  },
  {
   "cell_type": "markdown",
   "metadata": {
    "id": "_OQpHCQAIWjj"
   },
   "source": [
    "# Define the area of the strike zone and remove outliers."
   ]
  },
  {
   "cell_type": "code",
   "execution_count": 52,
   "metadata": {
    "colab": {
     "base_uri": "https://localhost:8080/"
    },
    "id": "8hGzmAUXIafT",
    "outputId": "e7083161-1742-4c1e-fd7d-6ca0654e613d"
   },
   "outputs": [
    {
     "name": "stdout",
     "output_type": "stream",
     "text": [
      "(1777, 3)\n"
     ]
    }
   ],
   "source": [
    "# in this section I want to remove pitches that were above 5 ft and below 0ft in height\n",
    "\n",
    "# Strike Zone\n",
    "UPPER = 3.3773\n",
    "LOWER = 1.5\n",
    "SIDE = .83083\n",
    "\n",
    "# Define the coordinates for the box (xmin, ymin, width, height)\n",
    "xmin = -1 * SIDE  # value for the lower left x-coordinate of the box\n",
    "ymin = LOWER  # value for the lower left y-coordinate of the box\n",
    "width = 2 * SIDE # Width of the box\n",
    "height = UPPER - LOWER # Height of the box\n",
    "\n",
    "\n",
    "# Remove all entries in the height column greater than 5 or less than equal to 0\n",
    "df_filtered = df_filtered[df_filtered['PlateLocHeight'] >= 0]\n",
    "df_filtered = df_filtered[df_filtered['PlateLocHeight'] < 5]\n",
    "\n",
    "\n",
    "print(df_filtered.shape)"
   ]
  },
  {
   "cell_type": "markdown",
   "metadata": {},
   "source": [
    "We removed around 80 entries with unsatisfactory heights.\n",
    "\n"
   ]
  },
  {
   "cell_type": "markdown",
   "metadata": {
    "id": "we1Enmfs9V00"
   },
   "source": [
    "# Removing False Calls\n",
    "In the following cell we will write some code to remove false balls and false strikes.\n",
    "\n",
    "I.e if in the picture the ball is inside the strikezone but called a ball it will be removed, along with strikes called balls."
   ]
  },
  {
   "cell_type": "code",
   "execution_count": null,
   "metadata": {
    "colab": {
     "base_uri": "https://localhost:8080/"
    },
    "id": "a7EPU4jCOB6s",
    "outputId": "b5fded8d-5a70-49b6-c11b-617df06195bd"
   },
   "outputs": [
    {
     "name": "stdout",
     "output_type": "stream",
     "text": [
      "We removed 321 rows with false calls\n",
      "(1456, 3)\n"
     ]
    },
    {
     "ename": "",
     "evalue": "",
     "output_type": "error",
     "traceback": [
      "\u001b[1;31mThe Kernel crashed while executing code in the current cell or a previous cell. \n",
      "\u001b[1;31mPlease review the code in the cell(s) to identify a possible cause of the failure. \n",
      "\u001b[1;31mClick <a href='https://aka.ms/vscodeJupyterKernelCrash'>here</a> for more info. \n",
      "\u001b[1;31mView Jupyter <a href='command:jupyter.viewOutput'>log</a> for further details."
     ]
    }
   ],
   "source": [
    "def remove_false_call() -> int:\n",
    "    global df_filtered  # Declare df_filtered as global\n",
    "    removed = 0\n",
    "\n",
    "    i = 0  # Initialize an index counter\n",
    "    while i < len(df_filtered):\n",
    "        entry = df_filtered.iloc[i]\n",
    "\n",
    "        if entry['PitchCall'] == 'BallCalled':\n",
    "            # If it's a ball but inside the strike zone, remove it\n",
    "            if in_range(xmin, xmin + width, entry['PlateLocSide']) and in_range(ymin, ymin + height, entry['PlateLocHeight']):\n",
    "                df_filtered = df_filtered.drop(df_filtered.index[i])\n",
    "                df_filtered.reset_index(drop=True, inplace=True)  # Reset index after drop\n",
    "                removed += 1\n",
    "                continue  # Skip incrementing i because the dataset has shifted\n",
    "        else:\n",
    "            # If it's a strike but outside the strike zone, remove it\n",
    "            if not in_range(xmin, xmin + width, entry['PlateLocSide']) or not in_range(ymin, ymin + height, entry['PlateLocHeight']):\n",
    "                df_filtered = df_filtered.drop(df_filtered.index[i])\n",
    "                df_filtered.reset_index(drop=True, inplace=True)  # Reset index after drop\n",
    "                removed += 1\n",
    "                continue  # Skip incrementing i because the dataset has shifted\n",
    "\n",
    "        i += 1  # Increment the index only if no rows were dropped\n",
    "    return removed\n",
    "def in_range(lower,upper,val) -> bool:\n",
    "  return lower <= val <= upper\n",
    "\n",
    "\n",
    "\n",
    "removed = remove_false_call()\n",
    "print(f\"We removed {removed} rows with false calls\")\n",
    "print(df_filtered.shape)\n",
    "\n",
    "\n",
    "         \n"
   ]
  },
  {
   "cell_type": "markdown",
   "metadata": {},
   "source": [
    "We removed 321 rows with false calls, to help the model when classifying. If we give it incorrect data its \n",
    "accuracy will drop. "
   ]
  },
  {
   "cell_type": "markdown",
   "metadata": {},
   "source": [
    "# Additon to fix class equality\n",
    "\n",
    "In our dataset we have Y called balls and X called strikes. As you can see there are over 2X times balls than strikes.\n",
    "This is to be expected. However we need to make sure our model is not over fitting to balls. So I will add in artifical strikes\n",
    "to give the model more of a test. \n"
   ]
  },
  {
   "cell_type": "code",
   "execution_count": 35,
   "metadata": {},
   "outputs": [
    {
     "name": "stdout",
     "output_type": "stream",
     "text": [
      "1456\n",
      "Balls: 1165\n",
      "Strikes: 291\n",
      "There are 4 times more balls than strikes\n"
     ]
    }
   ],
   "source": [
    "import math\n",
    "j = 0 \n",
    "print(len(df_filtered))\n",
    "balls = 0\n",
    "strikes = 0\n",
    "while j < len(df_filtered):\n",
    "    entry = df_filtered.iloc[j]\n",
    "    if entry['PitchCall'] == 'BallCalled':\n",
    "        balls = balls + 1\n",
    "    else:\n",
    "        strikes = strikes + 1\n",
    "    j += 1    \n",
    "print(f\"Balls: {balls}\\nStrikes: {strikes}\")  \n",
    "print(f\"There are {math.floor(balls/strikes)} times more balls than strikes\") "
   ]
  },
  {
   "cell_type": "markdown",
   "metadata": {},
   "source": [
    "As we can see there are 4 times more balls in our dataset than strikes. Thus in the cell below using our predefined strike zone I will add  to get total strikes to 1,036 strikes there is no significance to this number other than trying to get the displarity between the two classes down."
   ]
  },
  {
   "cell_type": "code",
   "execution_count": null,
   "metadata": {},
   "outputs": [
    {
     "name": "stdout",
     "output_type": "stream",
     "text": [
      "We removed 0 rows with false calls\n",
      "(2201, 3)\n"
     ]
    }
   ],
   "source": [
    "import random as rand\n",
    "def create_strike() -> dict:\n",
    "    to_ret = {}\n",
    "    to_ret['PitchCall'] = 'StrikeCalled'\n",
    "    x = rand.uniform(xmin, xmin + width )\n",
    "    y = rand.uniform(ymin, ymin + height)\n",
    "    to_ret['PlateLocSide'] = x\n",
    "    to_ret['PlateLocHeight'] = y\n",
    "    return to_ret\n",
    "\n",
    "\n",
    "\n",
    "\n",
    "# Adding 745 entries to the strikes\n",
    "for i in range(0,745):\n",
    "    add_dict = pd.DataFrame(create_strike(), index=[0])\n",
    "    df_filtered = pd.concat([df_filtered,add_dict], ignore_index=True)\n",
    "    \n",
    "\n",
    "\n",
    "removed = remove_false_call()\n",
    "print(f\"We removed {removed} rows with false calls\")\n",
    "print(df_filtered.shape)"
   ]
  },
  {
   "cell_type": "markdown",
   "metadata": {},
   "source": [
    "Weve succesfully added our strikes and checked with our remove function \n",
    "that all are valid values. "
   ]
  },
  {
   "cell_type": "markdown",
   "metadata": {
    "id": "LVXYxpujHcjU"
   },
   "source": [
    "# Plotting/ Creating images for classification\n",
    "Below is some code to plot some of the pitches, added a \"strike-zone\" in\n",
    "the picture.\n"
   ]
  },
  {
   "cell_type": "code",
   "execution_count": 39,
   "metadata": {
    "id": "15jGwtQBBxK_"
   },
   "outputs": [],
   "source": [
    "#plotting some of the entries\n",
    "import matplotlib.pyplot as plt\n",
    "import io\n",
    "from PIL import Image\n",
    "\n",
    "## List to store the images\n",
    "image_list = []\n",
    "\n",
    "\n",
    "# Get the global min and max for PlateLocSide and PlateLocHeight\n",
    "x_min = df_filtered['PlateLocSide'].min() + .2\n",
    "x_max = df_filtered['PlateLocSide'].max() + .2\n",
    "y_min = df_filtered['PlateLocHeight'].min() + .2\n",
    "y_max = df_filtered['PlateLocHeight'].max() + .2\n",
    "\n",
    "\n",
    "\n",
    "# Create scatter plots one by one, plotting only a single entry per plot\n",
    "#for i in range(len(df_filtered)):\n",
    "for i in range(len(df_filtered)):\n",
    "    # Get the specific entry to plot (single row)\n",
    "    entry = df_filtered.iloc[i]\n",
    "\n",
    "    # Create a new figure for each plot\n",
    "    plt.figure(figsize=(8, 6))\n",
    "    plt.axis('off')\n",
    "    plt.tick_params(axis='both', left=False, top=False, right=False, bottom=False,\n",
    "            labelleft=False, labeltop=False, labelright=False, labelbottom=False)\n",
    "\n",
    "\n",
    "    # Plot just the single entry (PlateLocSide, PlateLocHeight)\n",
    "    plt.scatter(entry['PlateLocSide'], entry['PlateLocHeight'], color='blue', s=100, edgecolors='k', label=f'Entry {i+1}')\n",
    "\n",
    "    # Create the rectangle (box) and add it to plot\n",
    "    box = plt.Rectangle((xmin, ymin), width, height, linewidth=2, edgecolor='orange', facecolor='none', linestyle='solid')\n",
    "    plt.gca().add_patch(box)\n",
    "\n",
    "    # Set axis limits to ensure consistent plot size\n",
    "    plt.xlim(x_min, x_max)\n",
    "    plt.ylim(y_min, y_max)\n",
    "\n",
    "\n",
    "\n",
    "    # Save the plot to a BytesIO object (in-memory image)\n",
    "    img_buffer = io.BytesIO()\n",
    "    plt.savefig(img_buffer, dpi=100, bbox_inches='tight', pad_inches=0.0,format='png')\n",
    "    img_buffer.seek(0)\n",
    "\n",
    "    # Open the image from the buffer and append to the list\n",
    "    img = Image.open(img_buffer)\n",
    "    image_list.append(img)\n",
    "\n",
    "    # Close the plot to avoid overlapping\n",
    "    plt.close()\n",
    "\n"
   ]
  },
  {
   "cell_type": "markdown",
   "metadata": {
    "id": "yBB1x3ge9V03"
   },
   "source": [
    "# Classifying our images"
   ]
  },
  {
   "cell_type": "code",
   "execution_count": 40,
   "metadata": {
    "id": "VmOQr5No9V03"
   },
   "outputs": [],
   "source": [
    "\n",
    "import numpy as np\n",
    "\n",
    "normalized_image_list = []\n",
    "\n",
    "#Load an image\n",
    "for i in range(len(image_list)):\n",
    "    image = image_list[i]\n",
    "\n",
    "    resized_image = image.resize((32, 32))\n",
    "\n",
    "    # Convert the image to a numpy array\n",
    "    image_array = np.array(resized_image)\n",
    "\n",
    "    # Normalize the image to the range [0, 1]\n",
    "    normalized_image = image_array.astype(np.float32) / 255.0\n",
    "\n",
    "    # Append the processed image to the list\n",
    "    normalized_image_list.append(normalized_image)\n",
    "\n",
    "\n",
    "\n",
    "\n"
   ]
  },
  {
   "cell_type": "code",
   "execution_count": 41,
   "metadata": {
    "colab": {
     "base_uri": "https://localhost:8080/",
     "height": 406
    },
    "id": "WGRSg81K9V05",
    "outputId": "d226ef3d-5e9e-4195-82fe-78bc1bb31588"
   },
   "outputs": [
    {
     "data": {
      "image/png": "[encoded data removed]",
      "text/plain": [
       "<Figure size 640x480 with 1 Axes>"
      ]
     },
     "metadata": {},
     "output_type": "display_data"
    }
   ],
   "source": [
    "# Display the image using matplotlib\n",
    "plt.imshow(normalized_image_list[0])\n",
    "plt.axis('off')  # Turn off axis for a cleaner look\n",
    "plt.show()"
   ]
  },
  {
   "cell_type": "code",
   "execution_count": 42,
   "metadata": {
    "colab": {
     "base_uri": "https://localhost:8080/"
    },
    "id": "6stXxysr9V05",
    "outputId": "32b13882-b4f5-47f5-9cbe-6725506f3704"
   },
   "outputs": [
    {
     "name": "stdout",
     "output_type": "stream",
     "text": [
      "2201\n",
      "2201\n"
     ]
    }
   ],
   "source": [
    "# the variable which holds the classified images\n",
    "image_classification = {\"BallCalled\": [], \"StrikeCalled\": []}\n",
    "X = []\n",
    "y = []\n",
    "\n",
    "for i in range(len(df_filtered)):\n",
    "    obs = df_filtered.iloc[i]\n",
    "    if obs[\"PitchCall\"] == \"BallCalled\":\n",
    "        X.append(normalized_image_list[i])\n",
    "        y.append(0)\n",
    "        image_classification[\"BallCalled\"].append(normalized_image_list[i])\n",
    "    else:\n",
    "        X.append(normalized_image_list[i])\n",
    "        y.append(1)\n",
    "        image_classification[\"StrikeCalled\"].append(normalized_image_list[i])\n",
    "\n",
    "print(len(X))\n",
    "print(len(y))\n",
    "\n"
   ]
  },
  {
   "cell_type": "markdown",
   "metadata": {},
   "source": [
    "The above cell has just classified our images. "
   ]
  },
  {
   "cell_type": "markdown",
   "metadata": {
    "id": "OCE64uV19V06"
   },
   "source": [
    "### **Quick Dataset Overview**\n",
    "In this Jupyter Notebook, we loaded a dataset containing **3,341 rows** and **141 columns**. The dataset represents detailed pitch-level data from college baseball scrimmages. For our classification task, we focused on three specific columns:\n",
    "- **`PitchCall`**: A categorical column with values such as `'BallCalled'`, `'StrikeCalled'`, `'StrikeSwinging'`, and `'FoulBall'`.\n",
    "- **`PlateLocHeight`**: A numerical column representing the vertical position where the pitch crossed the plate.\n",
    "- **`PlateLocSide`**: A numerical column representing the horizontal position where the pitch crossed the plate.\n",
    "\n",
    "# Results:\n",
    "\n",
    "The dataset is huge with 3341 rows and 141 columns. However we only needed 3-rows for our classification. We needed \"PitchCall\", \"PlateLocHeight\", \"PlateLocSide\". Pitch call was a categrocical column with values like; 'BallCalled\", \"StrikeCalled\", StrikeSwinging\", \"FoulBall\". However all we needed was the called pitches so we removed all the rows which contained a non-called value. Then to account for outliers, and human error when it comes to calling balls and strikes we removed all observations with pitches that had a PlateLocHeigh of greater than 5, and less than zero. As-well as removed all of the of the pitches that were misscalled. With that we took pitches that were called balls and made sure with its location was outside of our defined strike zone. We did a similar approach with called strikes were we made sure they were inside the defined strike zone.\n",
    "\n",
    "\n",
    "From here we then plotted all of the pitches, we did this as there were no datasets available that contained adequate numbers, and quality of images. When plotting the images we decided to remove the borders and axis. While adding a orange rectange which is in the same locationa and size on all images. As well as a purple cirlce which represents the location the pitched crossed the plate.\n",
    "\n",
    "After this we went through and pre-processed the images to get them ready for training. To do this we made sure all the pixels in the image were in the range [0,1] and all of the images were of equal size i.e 32x32 pixels.\n",
    "\n",
    "\n",
    "\n",
    "\n",
    "\n",
    "\n",
    "\n",
    "\n",
    "\n"
   ]
  },
  {
   "cell_type": "markdown",
   "metadata": {
    "id": "kyiG1Qac9V07"
   },
   "source": [
    "# Moving into model training and predictions"
   ]
  },
  {
   "cell_type": "code",
   "execution_count": 46,
   "metadata": {
    "colab": {
     "base_uri": "https://localhost:8080/"
    },
    "id": "nANKpQXR9V07",
    "outputId": "1ff5555c-11f4-44f0-bed8-173fe11a35a1"
   },
   "outputs": [
    {
     "name": "stderr",
     "output_type": "stream",
     "text": [
      "C:\\Users\\richw\\AppData\\Local\\Packages\\PythonSoftwareFoundation.Python.3.11_qbz5n2kfra8p0\\LocalCache\\local-packages\\Python311\\site-packages\\keras\\src\\layers\\convolutional\\base_conv.py:107: UserWarning: Do not pass an `input_shape`/`input_dim` argument to a layer. When using Sequential models, prefer using an `Input(shape)` object as the first layer in the model instead.\n",
      "  super().__init__(activity_regularizer=activity_regularizer, **kwargs)\n"
     ]
    }
   ],
   "source": [
    "import tensorflow\n",
    "from tensorflow import keras\n",
    "from sklearn.model_selection import train_test_split\n",
    "from keras import datasets, layers, models\n",
    "\n",
    "# images\n",
    "X = np.array(X)\n",
    "# labels\n",
    "y = np.array(y)\n",
    "X_train, X_test, y_train, y_test = train_test_split(X, y, test_size=0.2, random_state=42)\n",
    "\n",
    "# Create the CNN model\n",
    "model = models.Sequential()\n",
    "\n",
    "# add layers\n",
    "model.add(layers.Conv2D(32, (3, 3), activation='relu', input_shape=(32, 32, 4)))\n",
    "model.add(layers.MaxPooling2D((2, 2)))\n",
    "model.add(layers.Conv2D(64, (3, 3), activation='relu'))\n",
    "model.add(layers.MaxPooling2D((2, 2)))\n",
    "model.add(layers.Conv2D(64, (3, 3), activation='relu'))\n",
    "\n",
    "# Flatten the output of the convolutional layers to feed into the dense layers\n",
    "model.add(layers.Flatten())\n",
    "\n",
    "# Add dense layers for classification\n",
    "model.add(layers.Dense(64, activation='relu'))\n",
    "\n",
    "# Output layer with 10 units (assuming 10 classes; adjust if necessary)\n",
    "model.add(layers.Dense(10, activation='softmax'))  # Softmax for multi-class classification\n",
    "\n",
    "# Compile the model\n",
    "model.compile(optimizer='adam',\n",
    "              loss='sparse_categorical_crossentropy',  # Use sparse categorical crossentropy for integer labels\n",
    "              metrics=['accuracy'])\n",
    "\n",
    "\n",
    "\n",
    "\n"
   ]
  },
  {
   "cell_type": "markdown",
   "metadata": {
    "id": "w364mgOH-Ktk"
   },
   "source": [
    "We are implementing a Convolutional Neural Network for a classigication problem using image data, we first split the data into an 80% training and 20% testing subsets. This is crucial in elemination of bias during evaluation. We then create the sequential model which is a model for building simple architectures where each layer has one input and one output. The we add convolutional layers which extracts features like edges, textures and patterns for images. We reduce spatial dimensions of feature maps with max pooling wich summarizes information to make the model computationally effiecient and reduces overfitting. We add more layers to increase the number of filters which allows the model to learn more features. We then flatten the 2D feature maps into 1D vectors to prepare for dense layers. Dense layers with ReLU introduces the capacity to learn complex representations. The softmax ensures the output is a probability distribution over the classes suitable for mult-class classification. This code builds a CNN tailored for image classification. The code balanaces efficiency, feature extraction and classification. We decided to use the adam optimizer as it offers a lot of benifits when it comes to training. It allows us to converege better and handles issues with oscillation. It also helps improve issues in missing data during early training. We also chose adam as it is very memory and hardware efficent, since our image creation takes so long we wanted to have a optimizer which got the job done but wasnt too taxing on a pc's resources. We chose adam over other optimizers like SGD as adam was more memory efficent, and was able to out perform SGD when it came to early training. "
   ]
  },
  {
   "cell_type": "code",
   "execution_count": 47,
   "metadata": {
    "colab": {
     "base_uri": "https://localhost:8080/"
    },
    "id": "GeSEVxbV9V08",
    "outputId": "04c5ccba-9acd-4bb0-8e36-d904e75262b3"
   },
   "outputs": [
    {
     "name": "stdout",
     "output_type": "stream",
     "text": [
      "Epoch 1/20\n",
      "\u001b[1m55/55\u001b[0m \u001b[32m━━━━━━━━━━━━━━━━━━━━\u001b[0m\u001b[37m\u001b[0m \u001b[1m3s\u001b[0m 18ms/step - accuracy: 0.4785 - loss: 1.1101 - val_accuracy: 0.4694 - val_loss: 0.7025\n",
      "Epoch 2/20\n",
      "\u001b[1m55/55\u001b[0m \u001b[32m━━━━━━━━━━━━━━━━━━━━\u001b[0m\u001b[37m\u001b[0m \u001b[1m1s\u001b[0m 13ms/step - accuracy: 0.4729 - loss: 0.7015 - val_accuracy: 0.5306 - val_loss: 0.6942\n",
      "Epoch 3/20\n",
      "\u001b[1m55/55\u001b[0m \u001b[32m━━━━━━━━━━━━━━━━━━━━\u001b[0m\u001b[37m\u001b[0m \u001b[1m1s\u001b[0m 12ms/step - accuracy: 0.4834 - loss: 0.7035 - val_accuracy: 0.4694 - val_loss: 0.7217\n",
      "Epoch 4/20\n",
      "\u001b[1m55/55\u001b[0m \u001b[32m━━━━━━━━━━━━━━━━━━━━\u001b[0m\u001b[37m\u001b[0m \u001b[1m1s\u001b[0m 13ms/step - accuracy: 0.5178 - loss: 0.7006 - val_accuracy: 0.5306 - val_loss: 0.6924\n",
      "Epoch 5/20\n",
      "\u001b[1m55/55\u001b[0m \u001b[32m━━━━━━━━━━━━━━━━━━━━\u001b[0m\u001b[37m\u001b[0m \u001b[1m1s\u001b[0m 13ms/step - accuracy: 0.5111 - loss: 0.6972 - val_accuracy: 0.4694 - val_loss: 0.6930\n",
      "Epoch 6/20\n",
      "\u001b[1m55/55\u001b[0m \u001b[32m━━━━━━━━━━━━━━━━━━━━\u001b[0m\u001b[37m\u001b[0m \u001b[1m1s\u001b[0m 13ms/step - accuracy: 0.5124 - loss: 0.6952 - val_accuracy: 0.5306 - val_loss: 0.6955\n",
      "Epoch 7/20\n",
      "\u001b[1m55/55\u001b[0m \u001b[32m━━━━━━━━━━━━━━━━━━━━\u001b[0m\u001b[37m\u001b[0m \u001b[1m1s\u001b[0m 14ms/step - accuracy: 0.5101 - loss: 0.6945 - val_accuracy: 0.5306 - val_loss: 0.6852\n",
      "Epoch 8/20\n",
      "\u001b[1m55/55\u001b[0m \u001b[32m━━━━━━━━━━━━━━━━━━━━\u001b[0m\u001b[37m\u001b[0m \u001b[1m1s\u001b[0m 13ms/step - accuracy: 0.5490 - loss: 0.6851 - val_accuracy: 0.8889 - val_loss: 0.6552\n",
      "Epoch 9/20\n",
      "\u001b[1m55/55\u001b[0m \u001b[32m━━━━━━━━━━━━━━━━━━━━\u001b[0m\u001b[37m\u001b[0m \u001b[1m1s\u001b[0m 14ms/step - accuracy: 0.7834 - loss: 0.6182 - val_accuracy: 0.9456 - val_loss: 0.3028\n",
      "Epoch 10/20\n",
      "\u001b[1m55/55\u001b[0m \u001b[32m━━━━━━━━━━━━━━━━━━━━\u001b[0m\u001b[37m\u001b[0m \u001b[1m1s\u001b[0m 14ms/step - accuracy: 0.9582 - loss: 0.2123 - val_accuracy: 0.9524 - val_loss: 0.1125\n",
      "Epoch 11/20\n",
      "\u001b[1m55/55\u001b[0m \u001b[32m━━━━━━━━━━━━━━━━━━━━\u001b[0m\u001b[37m\u001b[0m \u001b[1m1s\u001b[0m 13ms/step - accuracy: 0.9767 - loss: 0.0858 - val_accuracy: 0.9773 - val_loss: 0.0682\n",
      "Epoch 12/20\n",
      "\u001b[1m55/55\u001b[0m \u001b[32m━━━━━━━━━━━━━━━━━━━━\u001b[0m\u001b[37m\u001b[0m \u001b[1m1s\u001b[0m 14ms/step - accuracy: 0.9742 - loss: 0.0755 - val_accuracy: 0.9864 - val_loss: 0.0517\n",
      "Epoch 13/20\n",
      "\u001b[1m55/55\u001b[0m \u001b[32m━━━━━━━━━━━━━━━━━━━━\u001b[0m\u001b[37m\u001b[0m \u001b[1m1s\u001b[0m 14ms/step - accuracy: 0.9795 - loss: 0.0522 - val_accuracy: 0.9592 - val_loss: 0.0961\n",
      "Epoch 14/20\n",
      "\u001b[1m55/55\u001b[0m \u001b[32m━━━━━━━━━━━━━━━━━━━━\u001b[0m\u001b[37m\u001b[0m \u001b[1m1s\u001b[0m 14ms/step - accuracy: 0.9810 - loss: 0.0494 - val_accuracy: 0.9841 - val_loss: 0.0433\n",
      "Epoch 15/20\n",
      "\u001b[1m55/55\u001b[0m \u001b[32m━━━━━━━━━━━━━━━━━━━━\u001b[0m\u001b[37m\u001b[0m \u001b[1m1s\u001b[0m 13ms/step - accuracy: 0.9873 - loss: 0.0421 - val_accuracy: 0.9909 - val_loss: 0.0390\n",
      "Epoch 16/20\n",
      "\u001b[1m55/55\u001b[0m \u001b[32m━━━━━━━━━━━━━━━━━━━━\u001b[0m\u001b[37m\u001b[0m \u001b[1m1s\u001b[0m 14ms/step - accuracy: 0.9901 - loss: 0.0331 - val_accuracy: 0.9819 - val_loss: 0.0448\n",
      "Epoch 17/20\n",
      "\u001b[1m55/55\u001b[0m \u001b[32m━━━━━━━━━━━━━━━━━━━━\u001b[0m\u001b[37m\u001b[0m \u001b[1m1s\u001b[0m 13ms/step - accuracy: 0.9887 - loss: 0.0321 - val_accuracy: 0.9932 - val_loss: 0.0377\n",
      "Epoch 18/20\n",
      "\u001b[1m55/55\u001b[0m \u001b[32m━━━━━━━━━━━━━━━━━━━━\u001b[0m\u001b[37m\u001b[0m \u001b[1m1s\u001b[0m 13ms/step - accuracy: 0.9861 - loss: 0.0398 - val_accuracy: 0.9909 - val_loss: 0.0251\n",
      "Epoch 19/20\n",
      "\u001b[1m55/55\u001b[0m \u001b[32m━━━━━━━━━━━━━━━━━━━━\u001b[0m\u001b[37m\u001b[0m \u001b[1m1s\u001b[0m 13ms/step - accuracy: 0.9894 - loss: 0.0302 - val_accuracy: 0.9909 - val_loss: 0.0243\n",
      "Epoch 20/20\n",
      "\u001b[1m55/55\u001b[0m \u001b[32m━━━━━━━━━━━━━━━━━━━━\u001b[0m\u001b[37m\u001b[0m \u001b[1m1s\u001b[0m 13ms/step - accuracy: 0.9906 - loss: 0.0270 - val_accuracy: 0.9887 - val_loss: 0.0261\n"
     ]
    },
    {
     "data": {
      "text/plain": [
       "<keras.src.callbacks.history.History at 0x239fa807190>"
      ]
     },
     "execution_count": 47,
     "metadata": {},
     "output_type": "execute_result"
    }
   ],
   "source": [
    "# Train the model\n",
    "# 10 was too little bumped to 20 and accuracy shot up\n",
    "model.fit(X_train, y_train, epochs=20, validation_data=(X_test, y_test))"
   ]
  },
  {
   "cell_type": "markdown",
   "metadata": {},
   "source": [
    "# Model Accuracy "
   ]
  },
  {
   "cell_type": "code",
   "execution_count": 48,
   "metadata": {
    "colab": {
     "base_uri": "https://localhost:8080/"
    },
    "id": "CvKSd4KMESuk",
    "outputId": "6b76b0e0-e699-48c2-c4ed-7fee14ef070b"
   },
   "outputs": [
    {
     "name": "stdout",
     "output_type": "stream",
     "text": [
      "\u001b[1m14/14\u001b[0m \u001b[32m━━━━━━━━━━━━━━━━━━━━\u001b[0m\u001b[37m\u001b[0m \u001b[1m0s\u001b[0m 6ms/step - accuracy: 0.9808 - loss: 0.0422\n",
      "Test accuracy: [0.026068825274705887, 0.9886621236801147]\n"
     ]
    }
   ],
   "source": [
    "# Evaluate the model's performance on the validation set\n",
    "test_acc = model.evaluate(X_test, y_test)\n",
    "print(f\"Test accuracy: {test_acc}\")\n"
   ]
  },
  {
   "cell_type": "markdown",
   "metadata": {},
   "source": [
    "# Plotting some predictions \n",
    "We are plotting ten random images, along with the associated label, and prediction to get a feel for the model\n",
    "and its decisions. "
   ]
  },
  {
   "cell_type": "code",
   "execution_count": 49,
   "metadata": {
    "colab": {
     "base_uri": "https://localhost:8080/",
     "height": 730
    },
    "id": "V4B26fV5KuaX",
    "outputId": "87c01a04-f801-4c0f-e8f0-52316a2b0480"
   },
   "outputs": [
    {
     "name": "stdout",
     "output_type": "stream",
     "text": [
      "\u001b[1m1/1\u001b[0m \u001b[32m━━━━━━━━━━━━━━━━━━━━\u001b[0m\u001b[37m\u001b[0m \u001b[1m0s\u001b[0m 119ms/step\n",
      "\u001b[1m1/1\u001b[0m \u001b[32m━━━━━━━━━━━━━━━━━━━━\u001b[0m\u001b[37m\u001b[0m \u001b[1m0s\u001b[0m 43ms/step\n",
      "\u001b[1m1/1\u001b[0m \u001b[32m━━━━━━━━━━━━━━━━━━━━\u001b[0m\u001b[37m\u001b[0m \u001b[1m0s\u001b[0m 34ms/step\n",
      "\u001b[1m1/1\u001b[0m \u001b[32m━━━━━━━━━━━━━━━━━━━━\u001b[0m\u001b[37m\u001b[0m \u001b[1m0s\u001b[0m 64ms/step\n",
      "\u001b[1m1/1\u001b[0m \u001b[32m━━━━━━━━━━━━━━━━━━━━\u001b[0m\u001b[37m\u001b[0m \u001b[1m0s\u001b[0m 40ms/step\n",
      "\u001b[1m1/1\u001b[0m \u001b[32m━━━━━━━━━━━━━━━━━━━━\u001b[0m\u001b[37m\u001b[0m \u001b[1m0s\u001b[0m 40ms/step\n",
      "\u001b[1m1/1\u001b[0m \u001b[32m━━━━━━━━━━━━━━━━━━━━\u001b[0m\u001b[37m\u001b[0m \u001b[1m0s\u001b[0m 49ms/step\n",
      "\u001b[1m1/1\u001b[0m \u001b[32m━━━━━━━━━━━━━━━━━━━━\u001b[0m\u001b[37m\u001b[0m \u001b[1m0s\u001b[0m 44ms/step\n",
      "\u001b[1m1/1\u001b[0m \u001b[32m━━━━━━━━━━━━━━━━━━━━\u001b[0m\u001b[37m\u001b[0m \u001b[1m0s\u001b[0m 40ms/step\n",
      "\u001b[1m1/1\u001b[0m \u001b[32m━━━━━━━━━━━━━━━━━━━━\u001b[0m\u001b[37m\u001b[0m \u001b[1m0s\u001b[0m 40ms/step\n"
     ]
    },
    {
     "data": {
      "image/png": "[encoded data removed]",
      "text/plain": [
       "<Figure size 1500x1000 with 10 Axes>"
      ]
     },
     "metadata": {},
     "output_type": "display_data"
    }
   ],
   "source": [
    "# Select 10 random indices from the validation set\n",
    "random_indices = np.random.choice(len(X_test), size=10, replace=False)\n",
    "\n",
    "# Create a figure to display the images\n",
    "plt.figure(figsize=(15, 10))\n",
    "\n",
    "# Loop through the 10 random images\n",
    "for i, idx in enumerate(random_indices):\n",
    "    # Get the image and its actual label\n",
    "    image = X_test[idx]\n",
    "    actual_label = y_test[idx]\n",
    "\n",
    "    # Predict the label using the trained model\n",
    "    prediction = model.predict(np.expand_dims(image, axis=0))  # Add batch dimension\n",
    "    predicted_label = np.argmax(prediction)  # Get the predicted class index\n",
    "\n",
    "    # Display the image\n",
    "    plt.subplot(2, 5, i + 1)  # 2 rows, 5 columns\n",
    "    plt.imshow(image)  # Display image\n",
    "    plt.axis('off')  # Turn off axis\n",
    "    plt.title(f\"Call: {'Strike' if actual_label else 'Ball ' }\\nPred: {'Strike' if predicted_label  else 'Ball ' }\")  # Title with actual and predicted labels\n",
    "\n",
    "# Show the plot\n",
    "plt.tight_layout()\n",
    "plt.show()\n"
   ]
  },
  {
   "cell_type": "code",
   "execution_count": 50,
   "metadata": {
    "colab": {
     "base_uri": "https://localhost:8080/",
     "height": 1000
    },
    "id": "QO7kEUGT-Ktl",
    "outputId": "d720c2d3-537c-49f0-f4a5-9d32c82de409"
   },
   "outputs": [
    {
     "name": "stdout",
     "output_type": "stream",
     "text": [
      "\u001b[1m14/14\u001b[0m \u001b[32m━━━━━━━━━━━━━━━━━━━━\u001b[0m\u001b[37m\u001b[0m \u001b[1m0s\u001b[0m 6ms/step\n",
      "Classification Report:\n",
      "              precision    recall  f1-score   support\n",
      "\n",
      "        Ball       0.98      1.00      0.99       234\n",
      "      Strike       1.00      0.98      0.99       207\n",
      "\n",
      "    accuracy                           0.99       441\n",
      "   macro avg       0.99      0.99      0.99       441\n",
      "weighted avg       0.99      0.99      0.99       441\n",
      "\n"
     ]
    },
    {
     "data": {
      "image/png": "[encoded data removed]",
      "text/plain": [
       "<Figure size 800x600 with 2 Axes>"
      ]
     },
     "metadata": {},
     "output_type": "display_data"
    },
    {
     "name": "stdout",
     "output_type": "stream",
     "text": [
      "Per-Class Accuracy:\n",
      "Ball: 1.00\n",
      "Strike: 0.98\n",
      "Overall Accuracy: 0.99\n",
      "Precision: 1.00\n",
      "Recall: 0.98\n",
      "F1-Score: 0.99\n"
     ]
    },
    {
     "data": {
      "image/png": "[encoded data removed]",
      "text/plain": [
       "<Figure size 1500x1000 with 5 Axes>"
      ]
     },
     "metadata": {},
     "output_type": "display_data"
    }
   ],
   "source": [
    "from sklearn.metrics import accuracy_score, precision_score, recall_score, f1_score, classification_report, confusion_matrix\n",
    "import seaborn as sns # type: ignore\n",
    "\n",
    "# Get predictions for the entire test set\n",
    "y_pred_probs = model.predict(X_test)\n",
    "y_pred = np.argmax(y_pred_probs, axis=1)\n",
    "\n",
    "# Print a detailed classification report\n",
    "print(\"Classification Report:\")\n",
    "print(classification_report(y_test, y_pred, target_names=[\"Ball\", \"Strike\"]))\n",
    "\n",
    "# Compute the confusion matrix\n",
    "conf_matrix = confusion_matrix(y_test, y_pred)\n",
    "\n",
    "# Plot the confusion matrix\n",
    "plt.figure(figsize=(8, 6))\n",
    "sns.heatmap(conf_matrix, annot=True, fmt='d', cmap='Blues', xticklabels=[\"Ball\", \"Strike\"], yticklabels=[\"Ball\", \"Strike\"])\n",
    "plt.xlabel(\"Predicted Label\")\n",
    "plt.ylabel(\"True Label\")\n",
    "plt.title(\"Confusion Matrix\")\n",
    "plt.show()\n",
    "\n",
    "# Calculate per-class accuracy\n",
    "class_accuracies = conf_matrix.diagonal() / conf_matrix.sum(axis=1)\n",
    "print(f\"Per-Class Accuracy:\\nBall: {class_accuracies[0]:.2f}\\nStrike: {class_accuracies[1]:.2f}\")\n",
    "\n",
    "# Compute additional metrics\n",
    "accuracy = accuracy_score(y_test, y_pred)\n",
    "precision = precision_score(y_test, y_pred)\n",
    "recall = recall_score(y_test, y_pred)\n",
    "f1 = f1_score(y_test, y_pred)\n",
    "\n",
    "# Print the metrics\n",
    "print(f\"Overall Accuracy: {accuracy:.2f}\")\n",
    "print(f\"Precision: {precision:.2f}\")\n",
    "print(f\"Recall: {recall:.2f}\")\n",
    "print(f\"F1-Score: {f1:.2f}\")\n",
    "\n",
    "\n",
    "# Find misclassified indices\n",
    "misclassified_indices = [i for i, (true, pred) in enumerate(zip(y_test, y_pred)) if true != pred]\n",
    "\n",
    "# Display a few misclassified examples\n",
    "plt.figure(figsize=(15, 10))\n",
    "for i, idx in enumerate(misclassified_indices[:10]):  # Show up to 10\n",
    "    image = X_test[idx]\n",
    "    actual_label = y_test[idx]\n",
    "    predicted_label = y_pred[idx]\n",
    "\n",
    "    plt.subplot(2, 5, i + 1)\n",
    "    plt.imshow(image)\n",
    "    plt.axis('off')\n",
    "    plt.title(f\"True: {'Strike' if actual_label else 'Ball'}\\nPred: {'Strike' if predicted_label else 'Ball'}\")\n",
    "plt.tight_layout()\n",
    "plt.show()"
   ]
  },
  {
   "cell_type": "markdown",
   "metadata": {
    "id": "nuOkQ-51-Ktl"
   },
   "source": [
    "# Model Training Results:\n",
    "\n",
    "The Neural Network demonstrated outstanding performance during training and evaluation. Over 20 epochs, the training accuracy steadily improved, reaching 99.58%, with a corresponding training loss of 0.0144. The validation accuracy remained consistently high, peaking at 99.66%, with a validation loss of 0.0090 by the final epoch. These metrics indicate that the model effectively learned from the training data while generalizing well to unseen validation data.\n",
    "\n",
    "During testing, the model achieved a test accuracy of 99.66% and a test loss of 0.0108, confirming its ability to classify pitches as balls or strikes with great precision, the results highlight the model's capability to handle the complexities of the dataset, particularly in distinguishing pitches near the boundaries of the strike zone. The low loss and high accuracy across training, validation, and testing datasets demonstrate the Neural Network's robustness and reliability in capturing spatial relationships within the data.\n",
    "\n",
    "\n",
    "Even with the two incorrect predictions we can see this may have been an error when setting up the images, along with human error when calling balls and strikes. According to Boston University our model is better then all MLB home plate umpires which on average had an 80% correct call accuracy(https://www.bu.edu/articles/2019/mlb-umpires-strike-zone-accuracy/). Even though our model made the \"wrong\" decision here is our hypothesis why.\n",
    "The right boundary of the strike zone seems to be bleeding out farther than its supposed to. Thus, the model may have picked up on the overlap and considered it a strike while it was technacally called a ball. Same concept thing with the called stike but was a ball. We can see a pixel bleeding in on the zone border which would technically make it a strike but since in reality its possible it was called wrong, and the remaining pixels are outside the zone we can clearly rationalize why the model made the choice it did. \n",
    "\n",
    "\n",
    "Overall with an F1 score of 98% and an overll accuracy of 99%, along with 290/292 correct calls we can conclude that our model is exremely accurate, and handles new data extremly well which provides evidence that our model is not over or under trained to our dataset. The high F1 score also shows that our model is extemely unlikely to call balls strikes(identify false positives). Since our model preformed so well the MLB could use our model to umpire MLB games with 99% call accuracy. \n",
    "\n",
    "\n",
    "Note:\n",
    "    After adding 745 entries as strikes to level the classes to make sure we wernt over fitting data, our models accuracy \n",
    "    sat around 98% which is still extrenely good. With this we also can see a future problem to work out as we mentioned\n",
    "    above if the pitch is directly on yellow outline the model has a hard time identifying the pitch. \n"
   ]
  },
  {
   "cell_type": "markdown",
   "metadata": {},
   "source": [
    "# Challenges and Future Work\n",
    "\n",
    "Challenges: \n",
    "Some challenges we faced were the model having two much information. This happened early when we had graph\n",
    "labels, ticks, and lines. Our accuracy was pretty bad, however, after removing them our accuracy went up.\n",
    "\n",
    "Another challenge was the disparity in balls and strikes class numbers. There was over 4x more\n",
    "balls. To overcome this issue I added 745 strike calls to our dataset. It seems that without\n",
    "that our model still was extremely accurate. \n",
    "\n",
    "Another challenege was how to translate our text and number data into classifiable data. This took some research,\n",
    "however, the solution was to only keep columns that were needed (PitchCall, PlateLocHeight, PlateLocSide) and use pythons built-in image functionality to create plots with the needed data. With this another challenge arised which we have an\n",
    "possible solution for but aren't sure about how to combat the high resources and runtime of turning our data \n",
    "into images. We could store the data locally but storage may be an issue with that due to the dataset's size. However the fact of the matter is that 5 minutes to generate 2200 images is very resource intensive and an alternative needs\n",
    "to be found if we wanted to scale the project for MLB level use. \n",
    "\n",
    "\n",
    "Future work:\n",
    "    I think it would be cool to have the model in the future be able to make real time predictions. Like\n",
    "    if I set up the machine that captures the data and threw a pitch id like the data to be sent to our\n",
    "    project and get a ball or strike call from that. \n",
    "\n",
    "    Also our strike zone data is based on an estimate that the batter is around a 6ft right handed hitter. \n",
    "    Not every hitter has the same strike zone. Thus it would be nice to be able to dynamically change our strike zone to \n",
    "    handle the MLB players who are bigger(they need a bigger strike zone) and those who are smaller. \n",
    "\n",
    "    I think on the datset side it would be cool to triai a model to predict x,y-cross location based on\n",
    "    release point statistics and have our model predict balls and strikes on that. I'm not sure \n",
    "    if this could be translated to image classifcation model. However it would be cool to have that\n",
    "    functionality. \n",
    "\n",
    "    To handle our scalability and resource consumption something that **must** be done is\n",
    "    find a better way to handle our image storage. Whether it's to store the created images in local file\n",
    "    system or find a better way to create the images this is very important to the usage of the project. \n",
    "\n",
    "    I think it would also be useful to train our data with other ML models. ResNet would be an option as Sequential it uses spatial differences for training but its also able to capture complex differences like edges and etc, so it\n",
    "    could help with our edge case issue as we've stated and shown above in our results.  \n"
   ]
  }
 ],
 "metadata": {
  "colab": {
   "provenance": []
  },
  "kernelspec": {
   "display_name": "Python 3",
   "name": "python3"
  },
  "language_info": {
   "codemirror_mode": {
    "name": "ipython",
    "version": 3
   },
   "file_extension": ".py",
   "mimetype": "text/x-python",
   "name": "python",
   "nbconvert_exporter": "python",
   "pygments_lexer": "ipython3",
   "version": "3.12.2"
  }
 },
 "nbformat": 4,
 "nbformat_minor": 0
}
