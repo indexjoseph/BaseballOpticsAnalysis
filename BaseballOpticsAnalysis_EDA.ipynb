{
  "nbformat": 4,
  "nbformat_minor": 0,
  "metadata": {
    "colab": {
      "provenance": []
    },
    "kernelspec": {
      "name": "python3",
      "display_name": "Python 3"
    },
    "language_info": {
      "name": "python"
    }
  },
  "cells": [
    {
      "cell_type": "markdown",
      "source": [
        "  ### **Final Project**: Baseball Optics Analysis - Exploratory Data Analysis\n",
        "   - Name: Andrew Lang, Joseph Oladeji, Richard Prange\n",
        "   - Class Name: MATH475 - Statistical Machine Learning"
      ],
      "metadata": {
        "id": "939oo4zUweUj"
      }
    },
    {
      "cell_type": "markdown",
      "source": [
        "The **Track_Combo.csv** dataset contains **3,344** observations with **141 columns** from 21 different scrimmages. It includes detailed pitch-level data from college baseball scrimmages, recorded by TrackMan V3. The dataset also captures various pitch characteristics, such as the pitcher's and batter's information, pitch speed, trajectory, and confidence metrics as well as both numerical and categorical fields, and includes confidence ratings on certain metrics.\n",
        "\n",
        "Reference:\n",
        "\n",
        "Pifer, N. D. P. (2024, September 16). Optical tracking data from college baseball scrimmages. Mendeley Data. https://data.mendeley.com/datasets/xfnz6mkdzm/3"
      ],
      "metadata": {
        "id": "c3CMZGldw73I"
      }
    },
    {
      "cell_type": "code",
      "execution_count": 5,
      "metadata": {
        "colab": {
          "base_uri": "https://localhost:8080/"
        },
        "id": "EJkOekXmvzgJ",
        "outputId": "6af3fdbe-170f-4d9c-a61a-4616430ebd73"
      },
      "outputs": [
        {
          "output_type": "stream",
          "name": "stdout",
          "text": [
            "Dimensions of the Dataset: (3344, 141)\n",
            "\n",
            "Feature Names and Types:\n",
            " PitchNo                            int64\n",
            "Date                              object\n",
            "PAofInning                         int64\n",
            "PitchofPA                          int64\n",
            "PitcherId                          int64\n",
            "                                   ...  \n",
            "HitLandingConfidence              object\n",
            "CatcherThrowCatchConfidence       object\n",
            "CatcherThrowReleaseConfidence     object\n",
            "CatcherThrowLocationConfidence    object\n",
            "System                            object\n",
            "Length: 141, dtype: object\n",
            "\n",
            "Columns with Missing Values and Percentage:\n",
            " AutoPitchType                      0.179426\n",
            "AutoHitType                       81.848086\n",
            "RelSpeed                           0.149522\n",
            "VertRelAngle                       0.149522\n",
            "HorzRelAngle                       0.149522\n",
            "                                    ...    \n",
            "HitLaunchConfidence               75.657895\n",
            "HitLandingConfidence              75.657895\n",
            "CatcherThrowCatchConfidence       96.471292\n",
            "CatcherThrowReleaseConfidence     96.471292\n",
            "CatcherThrowLocationConfidence    96.471292\n",
            "Length: 115, dtype: float64\n"
          ]
        },
        {
          "output_type": "execute_result",
          "data": {
            "text/plain": [
              "(   PitchNo      Date  PAofInning  PitchofPA   PitcherId PitcherThrows  \\\n",
              " 0        1  2/9/2023           1          1  1000036206         Right   \n",
              " 1        2  2/9/2023           2          1  1000036206         Right   \n",
              " 2        3  2/9/2023           3          1  1000036206         Right   \n",
              " 3        4  2/9/2023           3          2  1000036206         Right   \n",
              " 4        5  2/9/2023           3          3  1000036206         Right   \n",
              " \n",
              "   PitcherTeam    BatterId BatterSide BatterTeam  ...  ThrowTrajectoryZc2  \\\n",
              " 0         T_A  1000102964      Right        T_B  ...                 NaN   \n",
              " 1         T_A     8886045       Left        T_B  ...                 NaN   \n",
              " 2         T_A  1000103136      Right        T_B  ...                 NaN   \n",
              " 3         T_A  1000103136      Right        T_B  ...                 NaN   \n",
              " 4         T_A  1000103136      Right        T_B  ...                 NaN   \n",
              " \n",
              "   PitchReleaseConfidence  PitchLocationConfidence  PitchMovementConfidence  \\\n",
              " 0                   High                     High                     High   \n",
              " 1                   High                     High                     High   \n",
              " 2                   High                     High                     High   \n",
              " 3                   High                     High                     High   \n",
              " 4                   High                     High                     High   \n",
              " \n",
              "    HitLaunchConfidence HitLandingConfidence CatcherThrowCatchConfidence  \\\n",
              " 0                 High                 High                         NaN   \n",
              " 1                  NaN                  NaN                         NaN   \n",
              " 2                  NaN                  NaN                         NaN   \n",
              " 3                  NaN                  NaN                         NaN   \n",
              " 4                  NaN                  NaN                         NaN   \n",
              " \n",
              "   CatcherThrowReleaseConfidence CatcherThrowLocationConfidence System  \n",
              " 0                           NaN                            NaN     v3  \n",
              " 1                           NaN                            NaN     v3  \n",
              " 2                           NaN                            NaN     v3  \n",
              " 3                           NaN                            NaN     v3  \n",
              " 4                           NaN                            NaN     v3  \n",
              " \n",
              " [5 rows x 141 columns],\n",
              " AutoPitchType                      0.179426\n",
              " AutoHitType                       81.848086\n",
              " RelSpeed                           0.149522\n",
              " VertRelAngle                       0.149522\n",
              " HorzRelAngle                       0.149522\n",
              "                                     ...    \n",
              " HitLaunchConfidence               75.657895\n",
              " HitLandingConfidence              75.657895\n",
              " CatcherThrowCatchConfidence       96.471292\n",
              " CatcherThrowReleaseConfidence     96.471292\n",
              " CatcherThrowLocationConfidence    96.471292\n",
              " Length: 115, dtype: float64)"
            ]
          },
          "metadata": {},
          "execution_count": 5
        }
      ],
      "source": [
        "import matplotlib.pyplot as plt\n",
        "import seaborn as sns\n",
        "import pandas as pd\n",
        "import os\n",
        "\n",
        "# Read the data\n",
        "baseball_data = pd.read_csv(\"Track_Combo.csv\")\n",
        "\n",
        "# Displaying dataset dimensions and types for each column\n",
        "print(\"Dimensions of the Dataset:\", baseball_data.shape)\n",
        "print(\"\\nFeature Names and Types:\\n\", baseball_data.dtypes)\n",
        "\n",
        "# Displaying the first few rows of the dataset\n",
        "display_head = baseball_data.head()\n",
        "\n",
        "# Checking for missing values and calculating the percentage\n",
        "missing_values = baseball_data.isnull().sum()\n",
        "percent_missing = (missing_values / len(baseball_data)) * 100\n",
        "missing_data_summary = percent_missing[percent_missing > 0]\n",
        "\n",
        "# Displaying columns with missing values and their percentage\n",
        "print(\"\\nColumns with Missing Values and Percentage:\\n\", missing_data_summary)\n",
        "\n",
        "\n",
        "display_head, missing_data_summary\n"
      ]
    }
  ]
}