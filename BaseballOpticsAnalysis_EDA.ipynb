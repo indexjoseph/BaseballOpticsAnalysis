{
  "cells": [
    {
      "cell_type": "markdown",
      "metadata": {
        "id": "939oo4zUweUj"
      },
      "source": [
        "  ### **Final Project**: Baseball Optics Analysis - Exploratory Data Analysis\n",
        "   - Name: Andrew Lang, Joseph Oladeji, Richard Prange\n",
        "   - Class Name: MATH475 - Statistical Machine Learning"
      ]
    },
    {
      "cell_type": "markdown",
      "metadata": {
        "id": "c3CMZGldw73I"
      },
      "source": [
        "The **Track_Combo.csv** dataset contains **3,344** observations with **141 columns** from 21 different scrimmages. It includes detailed pitch-level data from college baseball scrimmages, recorded by TrackMan V3. The dataset also captures various pitch characteristics, such as the pitcher's and batter's information, pitch speed, trajectory, and confidence metrics as well as both numerical and categorical fields, and includes confidence ratings on certain metrics.\n",
        "\n",
        "We are interested in called balls and strikes. Thus to do this we will go through a proces of eliminating pictches and columns not needed for our classification needs.\n",
        "\n",
        "Reference:\n",
        "\n",
        "Pifer, N. D. P. (2024, September 16). Optical tracking data from college baseball scrimmages. Mendeley Data. https://data.mendeley.com/datasets/xfnz6mkdzm/3"
      ]
    },
    {
      "cell_type": "code",
      "execution_count": 1,
      "metadata": {
        "colab": {
          "base_uri": "https://localhost:8080/"
        },
        "id": "SBbo7GZWq2-q",
        "outputId": "a5273fe6-a8bb-42ee-e863-66e1c1d7e3fe"
      },
      "outputs": [
        {
          "output_type": "stream",
          "name": "stdout",
          "text": [
            "Missing values before filtering:\n",
            "PitchNo                              0\n",
            "Date                                 0\n",
            "PAofInning                           0\n",
            "PitchofPA                            0\n",
            "PitcherId                            0\n",
            "                                  ... \n",
            "HitLandingConfidence              2530\n",
            "CatcherThrowCatchConfidence       3226\n",
            "CatcherThrowReleaseConfidence     3226\n",
            "CatcherThrowLocationConfidence    3226\n",
            "System                               0\n",
            "Length: 141, dtype: int64\n",
            "\n",
            "Dataset shape after dropping missing values: (3339, 3)\n",
            "       PitchCall  PlateLocHeight  PlateLocSide\n",
            "2   StrikeCalled         2.30084      -0.80157\n",
            "4     BallCalled         2.89414      -1.49088\n",
            "10    BallCalled         1.00717      -0.16006\n",
            "13    BallCalled         0.34854      -2.32798\n",
            "15    BallCalled         0.70726      -2.10070\n",
            "(1854, 3)\n"
          ]
        }
      ],
      "source": [
        "# Remove unessicary columns before eda\n",
        "\n",
        "import pandas as pd\n",
        "\n",
        "# Read the data\n",
        "baseball_data = pd.read_csv(\"Track_Combo.csv\")\n",
        "cols_to_not_drop = [\"PitchCall\", \"PlateLocHeight\", \"PlateLocSide\"]\n",
        "\n",
        "# Check for missing values in the dataset\n",
        "missing_values = baseball_data.isnull().sum()\n",
        "print(\"Missing values before filtering:\")\n",
        "print(missing_values)\n",
        "\n",
        "# remove all of the colums that dont pertain to the outcome of the pitch and its location\n",
        "classification_needs = baseball_data[cols_to_not_drop]\n",
        "#print(classification_needs)\n",
        "\n",
        "# Dropping rows with missing values\n",
        "df_no_null = classification_needs.dropna()\n",
        "print(\"\\nDataset shape after dropping missing values:\", df_no_null.shape)\n",
        "\n",
        "# Removing the un needed pitch calls\n",
        "# We dont want foul ball, strike swinging, etc as the location of those pitches may throw the model off\n",
        "df_filtered = classification_needs[classification_needs[\"PitchCall\"].isin(['StrikeCalled', 'BallCalled'])]\n",
        "\n",
        "# remove two rows with null entries\n",
        "df_filt_no_null = df_filtered.dropna()\n",
        "\n",
        "\n",
        "print(df_filt_no_null.head())\n",
        "print(df_filt_no_null.shape)\n",
        "\n"
      ]
    },
    {
      "cell_type": "markdown",
      "metadata": {
        "id": "_OQpHCQAIWjj"
      },
      "source": [
        "# Define the area of the strike zone and remove outliers."
      ]
    },
    {
      "cell_type": "code",
      "execution_count": 2,
      "metadata": {
        "colab": {
          "base_uri": "https://localhost:8080/"
        },
        "id": "8hGzmAUXIafT",
        "outputId": "242f50b1-0f35-4c27-a268-11dd72e2f542"
      },
      "outputs": [
        {
          "output_type": "stream",
          "name": "stdout",
          "text": [
            "(1777, 3)\n"
          ]
        }
      ],
      "source": [
        "# in this section I want to remove pitches that were above 5 ft and below 0ft in height\n",
        "\n",
        "# Strike Zone\n",
        "UPPER = 3.3773\n",
        "LOWER = 1.5\n",
        "SIDE = .83083\n",
        "\n",
        "# Define the coordinates for the box (xmin, ymin, width, height)\n",
        "xmin = -1 * SIDE  # value for the lower left x-coordinate of the box\n",
        "ymin = LOWER  # value for the lower left y-coordinate of the box\n",
        "width = 2 * SIDE # Width of the box\n",
        "height = UPPER - LOWER # Height of the box\n",
        "\n",
        "\n",
        "# Remove all entries in the height column greater than 5 or less than equal to 0\n",
        "df_filtered = df_filt_no_null[df_filt_no_null['PlateLocHeight'] >= 0]\n",
        "df_filtered = df_filtered[df_filtered['PlateLocHeight'] < 5]\n",
        "\n",
        "\n",
        "print(df_filtered.shape)"
      ]
    },
    {
      "cell_type": "markdown",
      "metadata": {
        "id": "DE_pgeW5LsCT"
      },
      "source": [
        "We removed around 80 entries with unsatisfactory heights.\n",
        "\n"
      ]
    },
    {
      "cell_type": "markdown",
      "metadata": {
        "id": "we1Enmfs9V00"
      },
      "source": [
        "# Removing False Calls\n",
        "In the following cell we will write some code to remove false balls and false strikes.\n",
        "\n",
        "I.e if in the picture the ball is inside the strikezone but called a ball it will be removed, along with strikes called balls."
      ]
    },
    {
      "cell_type": "code",
      "execution_count": 3,
      "metadata": {
        "colab": {
          "base_uri": "https://localhost:8080/"
        },
        "id": "a7EPU4jCOB6s",
        "outputId": "011bb040-a5ac-4820-9180-2e8b24b55124"
      },
      "outputs": [
        {
          "output_type": "stream",
          "name": "stdout",
          "text": [
            "(1456, 3)\n"
          ]
        }
      ],
      "source": [
        "def remove_false_call():\n",
        "    global df_filtered  # Declare df_filtered as global\n",
        "\n",
        "    i = 0  # Initialize an index counter\n",
        "    while i < len(df_filtered):\n",
        "        entry = df_filtered.iloc[i]\n",
        "\n",
        "        if entry['PitchCall'] == 'BallCalled':\n",
        "            # If it's a ball but inside the strike zone, remove it\n",
        "            if in_range(xmin, xmin + width, entry['PlateLocSide']) and in_range(ymin, ymin + height, entry['PlateLocHeight']):\n",
        "                df_filtered = df_filtered.drop(df_filtered.index[i])\n",
        "                df_filtered.reset_index(drop=True, inplace=True)  # Reset index after drop\n",
        "                continue  # Skip incrementing i because the dataset has shifted\n",
        "        else:\n",
        "            # If it's a strike but outside the strike zone, remove it\n",
        "            if not in_range(xmin, xmin + width, entry['PlateLocSide']) or not in_range(ymin, ymin + height, entry['PlateLocHeight']):\n",
        "                df_filtered = df_filtered.drop(df_filtered.index[i])\n",
        "                df_filtered.reset_index(drop=True, inplace=True)  # Reset index after drop\n",
        "                continue  # Skip incrementing i because the dataset has shifted\n",
        "\n",
        "        i += 1  # Increment the index only if no rows were dropped\n",
        "\n",
        "def in_range(lower,upper,val) -> bool:\n",
        "  return lower <= val <= upper\n",
        "\n",
        "remove_false_call()\n",
        "\n",
        "\n",
        "print(df_filtered.shape)\n"
      ]
    },
    {
      "cell_type": "markdown",
      "metadata": {
        "id": "LVXYxpujHcjU"
      },
      "source": [
        "# Plotting/ Creating images for classification\n",
        "Below is some code to plot some of the pitches, added a \"strike-zone\" in\n",
        "the picture.\n"
      ]
    },
    {
      "cell_type": "code",
      "execution_count": 4,
      "metadata": {
        "id": "15jGwtQBBxK_"
      },
      "outputs": [],
      "source": [
        "#plotting some of the entries\n",
        "import matplotlib.pyplot as plt\n",
        "import io\n",
        "from PIL import Image\n",
        "\n",
        "## List to store the images\n",
        "image_list = []\n",
        "\n",
        "\n",
        "# Get the global min and max for PlateLocSide and PlateLocHeight\n",
        "x_min = df_filtered['PlateLocSide'].min() + .2\n",
        "x_max = df_filtered['PlateLocSide'].max() + .2\n",
        "y_min = df_filtered['PlateLocHeight'].min() + .2\n",
        "y_max = df_filtered['PlateLocHeight'].max() + .2\n",
        "\n",
        "\n",
        "\n",
        "# Create scatter plots one by one, plotting only a single entry per plot\n",
        "#for i in range(len(df_filtered)):\n",
        "for i in range(len(df_filtered)):\n",
        "    # Get the specific entry to plot (single row)\n",
        "    entry = df_filtered.iloc[i]\n",
        "\n",
        "    # Create a new figure for each plot\n",
        "    plt.figure(figsize=(8, 6))\n",
        "    plt.axis('off')\n",
        "    plt.tick_params(axis='both', left=False, top=False, right=False, bottom=False, labelleft=False, labeltop=False, labelright=False, labelbottom=False)\n",
        "\n",
        "\n",
        "    # Plot just the single entry (PlateLocSide, PlateLocHeight)\n",
        "    plt.scatter(entry['PlateLocSide'], entry['PlateLocHeight'], color='blue', s=100, edgecolors='k', label=f'Entry {i+1}')\n",
        "\n",
        "    # Create the rectangle (box) and add it to plot\n",
        "    box = plt.Rectangle((xmin, ymin), width, height, linewidth=2, edgecolor='orange', facecolor='none', linestyle='solid')\n",
        "    plt.gca().add_patch(box)\n",
        "\n",
        "    # Set axis limits to ensure consistent plot size\n",
        "    plt.xlim(x_min, x_max)\n",
        "    plt.ylim(y_min, y_max)\n",
        "\n",
        "\n",
        "\n",
        "    # Save the plot to a BytesIO object (in-memory image)\n",
        "    img_buffer = io.BytesIO()\n",
        "    plt.savefig(img_buffer, dpi=100, bbox_inches='tight', pad_inches=0.0,format='png')\n",
        "    img_buffer.seek(0)\n",
        "\n",
        "    # Open the image from the buffer and append to the list\n",
        "    img = Image.open(img_buffer)\n",
        "    image_list.append(img)\n",
        "\n",
        "    # Close the plot to avoid overlapping\n",
        "    plt.close()\n",
        "\n"
      ]
    },
    {
      "cell_type": "markdown",
      "metadata": {
        "id": "yBB1x3ge9V03"
      },
      "source": [
        "# Classifying our images"
      ]
    },
    {
      "cell_type": "code",
      "execution_count": 5,
      "metadata": {
        "id": "VmOQr5No9V03"
      },
      "outputs": [],
      "source": [
        "\n",
        "import numpy as np\n",
        "\n",
        "normalized_image_list = []\n",
        "\n",
        "#Load an image\n",
        "for i in range(len(image_list)):\n",
        "    image = image_list[i]\n",
        "\n",
        "    resized_image = image.resize((32, 32))\n",
        "\n",
        "    # Convert the image to a numpy array\n",
        "    image_array = np.array(resized_image)\n",
        "\n",
        "    # Normalize the image to the range [0, 1]\n",
        "    normalized_image = image_array.astype(np.float32) / 255.0\n",
        "\n",
        "    # Append the processed image to the list\n",
        "    normalized_image_list.append(normalized_image)\n",
        "\n",
        "\n",
        "\n",
        "\n"
      ]
    },
    {
      "cell_type": "code",
      "execution_count": 6,
      "metadata": {
        "colab": {
          "base_uri": "https://localhost:8080/",
          "height": 426
        },
        "id": "WGRSg81K9V05",
        "outputId": "0127a7f6-a7da-45f4-8919-3365732159cd"
      },
      "outputs": [
        {
          "output_type": "display_data",
          "data": {
            "text/plain": [
              "<Figure size 640x480 with 1 Axes>"
            ],
            "image/png": "[encoded data removed]"
          },
          "metadata": {}
        }
      ],
      "source": [
        "# Display the image using matplotlib\n",
        "plt.imshow(normalized_image_list[0])\n",
        "plt.axis('off')  # Turn off axis for a cleaner look\n",
        "plt.show()"
      ]
    },
    {
      "cell_type": "code",
      "execution_count": 17,
      "metadata": {
        "colab": {
          "base_uri": "https://localhost:8080/"
        },
        "id": "6stXxysr9V05",
        "outputId": "95dd2405-04cb-43ab-89fc-d08f540d27e6"
      },
      "outputs": [
        {
          "output_type": "stream",
          "name": "stdout",
          "text": [
            "1456\n",
            "1456\n"
          ]
        }
      ],
      "source": [
        "# the variable which holds the classified images\n",
        "image_classification = {\"BallCalled\": [], \"StrikeCalled\": []}\n",
        "X = []\n",
        "y = []\n",
        "\n",
        "for i in range(len(df_filtered)):\n",
        "    obs = df_filtered.iloc[i]\n",
        "    if obs[\"PitchCall\"] == \"BallCalled\":\n",
        "        X.append(normalized_image_list[i])\n",
        "        y.append(0)\n",
        "        image_classification[\"BallCalled\"].append(normalized_image_list[i])\n",
        "    else:\n",
        "        X.append(normalized_image_list[i])\n",
        "        y.append(1)\n",
        "        image_classification[\"StrikeCalled\"].append(normalized_image_list[i])\n",
        "\n",
        "print(len(X))\n",
        "print(len(y))\n",
        "\n"
      ]
    },
    {
      "cell_type": "markdown",
      "metadata": {
        "id": "hlKiy6Yv9V06"
      },
      "source": [
        "From here we can see that we have classified our images into two-classes, \"BallCalled\" and \"StrkeCalled\", there are 1165 in BallCalled and 291 in StrikeCalled."
      ]
    },
    {
      "cell_type": "markdown",
      "metadata": {
        "id": "OCE64uV19V06"
      },
      "source": [
        "### **Quick Dataset Overview**\n",
        "In this Jupyter Notebook, we loaded a dataset containing **3,341 rows** and **141 columns**. The dataset represents detailed pitch-level data from college baseball scrimmages. For our classification task, we focused on three specific columns:\n",
        "- **`PitchCall`**: A categorical column with values such as `'BallCalled'`, `'StrikeCalled'`, `'StrikeSwinging'`, and `'FoulBall'`.\n",
        "- **`PlateLocHeight`**: A numerical column representing the vertical position where the pitch crossed the plate.\n",
        "- **`PlateLocSide`**: A numerical column representing the horizontal position where the pitch crossed the plate.\n",
        "\n",
        "# Results:\n",
        "\n",
        "The dataset is huge with 3341 rows and 141 columns. However we only needed 3-rows for our classification. We needed \"PitchCall\", \"PlateLocHeight\", \"PlateLocSide\". Pitch call was a categrocical column with values like; 'BallCalled\", \"StrikeCalled\", StrikeSwinging\", \"FoulBall\". However all we needed was the called pitches so we removed all the rows which contained a non-called value. Then to account for outliers, and human error when it comes to calling balls and strikes we removed all observations with pitches that had a PlateLocHeigh of greater than 5, and less than zero. As-well as removed all of the of the pitches that were misscalled. With that we took pitches that were called balls and made sure with its location was outside of our defined strike zone. We did a similar approach with called strikes were we made sure they were inside the defined strike zone.\n",
        "\n",
        "\n",
        "From here we then plotted all of the pitches, we did this as there were no datasets available that contained adequate numbers, and quality of images. When plotting the images we decided to remove the borders and axis. While adding a orange rectange which is in the same locationa and size on all images. As well as a purple cirlce which represents the location the pitched crossed the plate.\n",
        "\n",
        "After this we went through and pre-processed the images to get them ready for training. To do this we made sure all the pixels in the image were in the range [0,1] and all of the images were of equal size i.e 32x32 pixels.\n",
        "\n",
        "\n",
        "\n",
        "\n",
        "\n",
        "\n",
        "\n",
        "\n",
        "\n"
      ]
    },
    {
      "cell_type": "markdown",
      "metadata": {
        "id": "kyiG1Qac9V07"
      },
      "source": [
        "# Moving into model training and predictions"
      ]
    },
    {
      "cell_type": "code",
      "execution_count": 23,
      "metadata": {
        "colab": {
          "base_uri": "https://localhost:8080/"
        },
        "id": "nANKpQXR9V07",
        "outputId": "3b757388-d3c4-40b5-b6c2-fa3a2af55260"
      },
      "outputs": [
        {
          "output_type": "stream",
          "name": "stdout",
          "text": [
            "(1456, 32, 32, 4)\n"
          ]
        },
        {
          "output_type": "stream",
          "name": "stderr",
          "text": [
            "/usr/local/lib/python3.10/dist-packages/keras/src/layers/convolutional/base_conv.py:107: UserWarning: Do not pass an `input_shape`/`input_dim` argument to a layer. When using Sequential models, prefer using an `Input(shape)` object as the first layer in the model instead.\n",
            "  super().__init__(activity_regularizer=activity_regularizer, **kwargs)\n"
          ]
        }
      ],
      "source": [
        "import tensorflow as tf\n",
        "from tensorflow import keras\n",
        "from sklearn.model_selection import train_test_split\n",
        "from keras import datasets, layers, models\n",
        "\n",
        "# images\n",
        "X = np.array(X)\n",
        "# labels\n",
        "y = np.array(y)\n",
        "X_train, X_test, y_train, y_test = train_test_split(X, y, test_size=0.2, random_state=42)\n",
        "\n",
        "# Create the CNN model\n",
        "model = models.Sequential()\n",
        "\n",
        "# add layers\n",
        "model.add(layers.Conv2D(32, (3, 3), activation='relu', input_shape=(32, 32, 4)))\n",
        "model.add(layers.MaxPooling2D((2, 2)))\n",
        "model.add(layers.Conv2D(64, (3, 3), activation='relu'))\n",
        "model.add(layers.MaxPooling2D((2, 2)))\n",
        "model.add(layers.Conv2D(64, (3, 3), activation='relu'))\n",
        "\n",
        "# Flatten the output of the convolutional layers to feed into the dense layers\n",
        "model.add(layers.Flatten())\n",
        "\n",
        "# Add dense layers for classification\n",
        "model.add(layers.Dense(64, activation='relu'))\n",
        "\n",
        "# Output layer with 10 units (assuming 10 classes; adjust if necessary)\n",
        "model.add(layers.Dense(10, activation='softmax'))  # Softmax for multi-class classification\n",
        "\n",
        "# Compile the model\n",
        "model.compile(optimizer='adam',\n",
        "              loss='sparse_categorical_crossentropy',  # Use sparse categorical crossentropy for integer labels\n",
        "              metrics=['accuracy'])\n",
        "\n",
        "\n",
        "\n",
        "\n"
      ]
    },
    {
      "cell_type": "code",
      "execution_count": 36,
      "metadata": {
        "colab": {
          "base_uri": "https://localhost:8080/"
        },
        "id": "GeSEVxbV9V08",
        "outputId": "9fbd553c-dfd8-45d1-ba73-20c39dc1328c"
      },
      "outputs": [
        {
          "output_type": "stream",
          "name": "stdout",
          "text": [
            "Epoch 1/20\n",
            "\u001b[1m37/37\u001b[0m \u001b[32m━━━━━━━━━━━━━━━━━━━━\u001b[0m\u001b[37m\u001b[0m \u001b[1m2s\u001b[0m 44ms/step - accuracy: 0.9826 - loss: 0.0390 - val_accuracy: 0.9932 - val_loss: 0.0237\n",
            "Epoch 2/20\n",
            "\u001b[1m37/37\u001b[0m \u001b[32m━━━━━━━━━━━━━━━━━━━━\u001b[0m\u001b[37m\u001b[0m \u001b[1m2s\u001b[0m 43ms/step - accuracy: 0.9880 - loss: 0.0316 - val_accuracy: 0.9897 - val_loss: 0.0165\n",
            "Epoch 3/20\n",
            "\u001b[1m37/37\u001b[0m \u001b[32m━━━━━━━━━━━━━━━━━━━━\u001b[0m\u001b[37m\u001b[0m \u001b[1m2s\u001b[0m 42ms/step - accuracy: 0.9864 - loss: 0.0385 - val_accuracy: 0.9897 - val_loss: 0.0154\n",
            "Epoch 4/20\n",
            "\u001b[1m37/37\u001b[0m \u001b[32m━━━━━━━━━━━━━━━━━━━━\u001b[0m\u001b[37m\u001b[0m \u001b[1m2s\u001b[0m 50ms/step - accuracy: 0.9929 - loss: 0.0247 - val_accuracy: 0.9966 - val_loss: 0.0136\n",
            "Epoch 5/20\n",
            "\u001b[1m37/37\u001b[0m \u001b[32m━━━━━━━━━━━━━━━━━━━━\u001b[0m\u001b[37m\u001b[0m \u001b[1m3s\u001b[0m 76ms/step - accuracy: 0.9869 - loss: 0.0314 - val_accuracy: 0.9932 - val_loss: 0.0134\n",
            "Epoch 6/20\n",
            "\u001b[1m37/37\u001b[0m \u001b[32m━━━━━━━━━━━━━━━━━━━━\u001b[0m\u001b[37m\u001b[0m \u001b[1m4s\u001b[0m 42ms/step - accuracy: 0.9933 - loss: 0.0235 - val_accuracy: 0.9932 - val_loss: 0.0160\n",
            "Epoch 7/20\n",
            "\u001b[1m37/37\u001b[0m \u001b[32m━━━━━━━━━━━━━━━━━━━━\u001b[0m\u001b[37m\u001b[0m \u001b[1m3s\u001b[0m 43ms/step - accuracy: 0.9973 - loss: 0.0183 - val_accuracy: 0.9897 - val_loss: 0.0132\n",
            "Epoch 8/20\n",
            "\u001b[1m37/37\u001b[0m \u001b[32m━━━━━━━━━━━━━━━━━━━━\u001b[0m\u001b[37m\u001b[0m \u001b[1m3s\u001b[0m 42ms/step - accuracy: 0.9953 - loss: 0.0166 - val_accuracy: 0.9897 - val_loss: 0.0126\n",
            "Epoch 9/20\n",
            "\u001b[1m37/37\u001b[0m \u001b[32m━━━━━━━━━━━━━━━━━━━━\u001b[0m\u001b[37m\u001b[0m \u001b[1m4s\u001b[0m 71ms/step - accuracy: 0.9894 - loss: 0.0252 - val_accuracy: 0.9932 - val_loss: 0.0208\n",
            "Epoch 10/20\n",
            "\u001b[1m37/37\u001b[0m \u001b[32m━━━━━━━━━━━━━━━━━━━━\u001b[0m\u001b[37m\u001b[0m \u001b[1m2s\u001b[0m 62ms/step - accuracy: 0.9924 - loss: 0.0228 - val_accuracy: 0.9966 - val_loss: 0.0105\n",
            "Epoch 11/20\n",
            "\u001b[1m37/37\u001b[0m \u001b[32m━━━━━━━━━━━━━━━━━━━━\u001b[0m\u001b[37m\u001b[0m \u001b[1m2s\u001b[0m 42ms/step - accuracy: 0.9897 - loss: 0.0247 - val_accuracy: 0.9932 - val_loss: 0.0200\n",
            "Epoch 12/20\n",
            "\u001b[1m37/37\u001b[0m \u001b[32m━━━━━━━━━━━━━━━━━━━━\u001b[0m\u001b[37m\u001b[0m \u001b[1m2s\u001b[0m 41ms/step - accuracy: 0.9857 - loss: 0.0319 - val_accuracy: 0.9932 - val_loss: 0.0144\n",
            "Epoch 13/20\n",
            "\u001b[1m37/37\u001b[0m \u001b[32m━━━━━━━━━━━━━━━━━━━━\u001b[0m\u001b[37m\u001b[0m \u001b[1m3s\u001b[0m 43ms/step - accuracy: 0.9943 - loss: 0.0236 - val_accuracy: 0.9966 - val_loss: 0.0090\n",
            "Epoch 14/20\n",
            "\u001b[1m37/37\u001b[0m \u001b[32m━━━━━━━━━━━━━━━━━━━━\u001b[0m\u001b[37m\u001b[0m \u001b[1m3s\u001b[0m 42ms/step - accuracy: 0.9956 - loss: 0.0158 - val_accuracy: 0.9966 - val_loss: 0.0191\n",
            "Epoch 15/20\n",
            "\u001b[1m37/37\u001b[0m \u001b[32m━━━━━━━━━━━━━━━━━━━━\u001b[0m\u001b[37m\u001b[0m \u001b[1m3s\u001b[0m 73ms/step - accuracy: 0.9888 - loss: 0.0301 - val_accuracy: 1.0000 - val_loss: 0.0119\n",
            "Epoch 16/20\n",
            "\u001b[1m37/37\u001b[0m \u001b[32m━━━━━━━━━━━━━━━━━━━━\u001b[0m\u001b[37m\u001b[0m \u001b[1m3s\u001b[0m 67ms/step - accuracy: 0.9896 - loss: 0.0232 - val_accuracy: 0.9966 - val_loss: 0.0133\n",
            "Epoch 17/20\n",
            "\u001b[1m37/37\u001b[0m \u001b[32m━━━━━━━━━━━━━━━━━━━━\u001b[0m\u001b[37m\u001b[0m \u001b[1m2s\u001b[0m 42ms/step - accuracy: 0.9870 - loss: 0.0297 - val_accuracy: 0.9932 - val_loss: 0.0129\n",
            "Epoch 18/20\n",
            "\u001b[1m37/37\u001b[0m \u001b[32m━━━━━━━━━━━━━━━━━━━━\u001b[0m\u001b[37m\u001b[0m \u001b[1m3s\u001b[0m 42ms/step - accuracy: 0.9881 - loss: 0.0260 - val_accuracy: 0.9966 - val_loss: 0.0072\n",
            "Epoch 19/20\n",
            "\u001b[1m37/37\u001b[0m \u001b[32m━━━━━━━━━━━━━━━━━━━━\u001b[0m\u001b[37m\u001b[0m \u001b[1m3s\u001b[0m 43ms/step - accuracy: 0.9957 - loss: 0.0111 - val_accuracy: 0.9966 - val_loss: 0.0098\n",
            "Epoch 20/20\n",
            "\u001b[1m37/37\u001b[0m \u001b[32m━━━━━━━━━━━━━━━━━━━━\u001b[0m\u001b[37m\u001b[0m \u001b[1m2s\u001b[0m 42ms/step - accuracy: 0.9958 - loss: 0.0144 - val_accuracy: 0.9966 - val_loss: 0.0090\n"
          ]
        }
      ],
      "source": [
        "# Train the model\n",
        "# 10 was too little bumped to 20 and accuracy shot up\n",
        "history = model.fit(X_train, y_train, epochs=20, validation_data=(X_test, y_test))"
      ]
    },
    {
      "cell_type": "code",
      "source": [
        "# Evaluate the model's performance on the validation set\n",
        "test_loss, test_acc = model.evaluate(X_test, y_test)\n",
        "print(f\"Test accuracy: {test_acc}\")\n"
      ],
      "metadata": {
        "colab": {
          "base_uri": "https://localhost:8080/"
        },
        "id": "CvKSd4KMESuk",
        "outputId": "77033102-5f47-49c4-efbc-84fcaf4eb085"
      },
      "execution_count": 37,
      "outputs": [
        {
          "output_type": "stream",
          "name": "stdout",
          "text": [
            "\u001b[1m10/10\u001b[0m \u001b[32m━━━━━━━━━━━━━━━━━━━━\u001b[0m\u001b[37m\u001b[0m \u001b[1m0s\u001b[0m 22ms/step - accuracy: 0.9956 - loss: 0.0108\n",
            "Test accuracy: 0.9965753555297852\n"
          ]
        }
      ]
    },
    {
      "cell_type": "code",
      "source": [
        "# Select 10 random indices from the validation set\n",
        "random_indices = np.random.choice(len(X_test), size=10, replace=False)\n",
        "\n",
        "# Create a figure to display the images\n",
        "plt.figure(figsize=(15, 10))\n",
        "\n",
        "# Loop through the 10 random images\n",
        "for i, idx in enumerate(random_indices):\n",
        "    # Get the image and its actual label\n",
        "    image = X_test[idx]\n",
        "    actual_label = y_test[idx]\n",
        "\n",
        "    # Predict the label using the trained model\n",
        "    prediction = model.predict(np.expand_dims(image, axis=0))  # Add batch dimension\n",
        "    predicted_label = np.argmax(prediction)  # Get the predicted class index\n",
        "\n",
        "    # Display the image\n",
        "    plt.subplot(2, 5, i + 1)  # 2 rows, 5 columns\n",
        "    plt.imshow(image)  # Display image\n",
        "    plt.axis('off')  # Turn off axis\n",
        "    plt.title(f\"Call: {'Strike' if actual_label else 'Ball ' }\\nPred: {'Strike' if predicted_label  else 'Ball ' }\")  # Title with actual and predicted labels\n",
        "\n",
        "# Show the plot\n",
        "plt.tight_layout()\n",
        "plt.show()\n"
      ],
      "metadata": {
        "colab": {
          "base_uri": "https://localhost:8080/",
          "height": 802
        },
        "id": "V4B26fV5KuaX",
        "outputId": "135e1751-5c69-4526-a5b4-b99500581a71"
      },
      "execution_count": 34,
      "outputs": [
        {
          "output_type": "stream",
          "name": "stdout",
          "text": [
            "\u001b[1m1/1\u001b[0m \u001b[32m━━━━━━━━━━━━━━━━━━━━\u001b[0m\u001b[37m\u001b[0m \u001b[1m0s\u001b[0m 77ms/step\n",
            "\u001b[1m1/1\u001b[0m \u001b[32m━━━━━━━━━━━━━━━━━━━━\u001b[0m\u001b[37m\u001b[0m \u001b[1m0s\u001b[0m 22ms/step\n",
            "\u001b[1m1/1\u001b[0m \u001b[32m━━━━━━━━━━━━━━━━━━━━\u001b[0m\u001b[37m\u001b[0m \u001b[1m0s\u001b[0m 31ms/step\n",
            "\u001b[1m1/1\u001b[0m \u001b[32m━━━━━━━━━━━━━━━━━━━━\u001b[0m\u001b[37m\u001b[0m \u001b[1m0s\u001b[0m 33ms/step\n",
            "\u001b[1m1/1\u001b[0m \u001b[32m━━━━━━━━━━━━━━━━━━━━\u001b[0m\u001b[37m\u001b[0m \u001b[1m0s\u001b[0m 29ms/step\n",
            "\u001b[1m1/1\u001b[0m \u001b[32m━━━━━━━━━━━━━━━━━━━━\u001b[0m\u001b[37m\u001b[0m \u001b[1m0s\u001b[0m 27ms/step\n",
            "\u001b[1m1/1\u001b[0m \u001b[32m━━━━━━━━━━━━━━━━━━━━\u001b[0m\u001b[37m\u001b[0m \u001b[1m0s\u001b[0m 30ms/step\n",
            "\u001b[1m1/1\u001b[0m \u001b[32m━━━━━━━━━━━━━━━━━━━━\u001b[0m\u001b[37m\u001b[0m \u001b[1m0s\u001b[0m 30ms/step\n",
            "\u001b[1m1/1\u001b[0m \u001b[32m━━━━━━━━━━━━━━━━━━━━\u001b[0m\u001b[37m\u001b[0m \u001b[1m0s\u001b[0m 35ms/step\n",
            "\u001b[1m1/1\u001b[0m \u001b[32m━━━━━━━━━━━━━━━━━━━━\u001b[0m\u001b[37m\u001b[0m \u001b[1m0s\u001b[0m 29ms/step\n"
          ]
        },
        {
          "output_type": "display_data",
          "data": {
            "text/plain": [
              "<Figure size 1500x1000 with 10 Axes>"
            ],
            "image/png": "[encoded data removed]"
          },
          "metadata": {}
        }
      ]
    }
  ],
  "metadata": {
    "colab": {
      "provenance": []
    },
    "kernelspec": {
      "display_name": "Python 3",
      "name": "python3"
    },
    "language_info": {
      "codemirror_mode": {
        "name": "ipython",
        "version": 3
      },
      "file_extension": ".py",
      "mimetype": "text/x-python",
      "name": "python",
      "nbconvert_exporter": "python",
      "pygments_lexer": "ipython3",
      "version": "3.11.9"
    }
  },
  "nbformat": 4,
  "nbformat_minor": 0
}