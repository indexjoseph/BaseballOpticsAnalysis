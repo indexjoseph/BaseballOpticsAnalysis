{
 "cells": [
  {
   "cell_type": "markdown",
   "metadata": {
    "id": "939oo4zUweUj"
   },
   "source": [
    "  ### **Final Project**: Baseball Optics Analysis - Exploratory Data Analysis\n",
    "   - Name: Andrew Lang, Joseph Oladeji, Richard Prange\n",
    "   - Class Name: MATH475 - Statistical Machine Learning"
   ]
  },
  {
   "cell_type": "markdown",
   "metadata": {
    "id": "c3CMZGldw73I"
   },
   "source": [
    "The **Track_Combo.csv** dataset contains **3,344** observations with **141 columns** from 21 different scrimmages. It includes detailed pitch-level data from college baseball scrimmages, recorded by TrackMan V3. The dataset also captures various pitch characteristics, such as the pitcher's and batter's information, pitch speed, trajectory, and confidence metrics as well as both numerical and categorical fields, and includes confidence ratings on certain metrics.\n",
    "\n",
    "We are interested in called balls and strikes. Thus to do this we will go through a proces of eliminating pictches and columns not needed for our classification needs.\n",
    "\n",
    "Reference:\n",
    "\n",
    "Pifer, N. D. P. (2024, September 16). Optical tracking data from college baseball scrimmages. Mendeley Data. https://data.mendeley.com/datasets/xfnz6mkdzm/3"
   ]
  },
  {
   "cell_type": "code",
   "execution_count": null,
   "metadata": {
    "colab": {
     "base_uri": "https://localhost:8080/"
    },
    "id": "SBbo7GZWq2-q",
    "outputId": "84d2b2fe-b774-43a4-b406-dddc189e66bc"
   },
   "outputs": [
    {
     "name": "stdout",
     "output_type": "stream",
     "text": [
      "       PitchCall  PlateLocHeight  PlateLocSide\n",
      "2   StrikeCalled         2.30084      -0.80157\n",
      "4     BallCalled         2.89414      -1.49088\n",
      "10    BallCalled         1.00717      -0.16006\n",
      "13    BallCalled         0.34854      -2.32798\n",
      "15    BallCalled         0.70726      -2.10070\n",
      "(1854, 3)\n"
     ]
    }
   ],
   "source": [
    "# Remove unessicary columns before eda\n",
    "\n",
    "import pandas as pd\n",
    "\n",
    "# Read the data\n",
    "baseball_data = pd.read_csv(\"Track_Combo.csv\")\n",
    "cols_to_not_drop = [\"PitchCall\", \"PlateLocHeight\", \"PlateLocSide\"]\n",
    "\n",
    "# Check for missing values in the dataset\n",
    "missing_values = baseball_data.isnull().sum()\n",
    "print(\"Missing values before filtering:\")\n",
    "print(missing_values)\n",
    "\n",
    "# remove all of the colums that dont pertain to the outcome of the pitch and its location\n",
    "classification_needs = baseball_data[cols_to_not_drop]\n",
    "#print(classification_needs)\n",
    "\n",
    "# Dropping rows with missing values\n",
    "df_no_null = classification_needs.dropna()\n",
    "print(\"\\nDataset shape after dropping missing values:\", df_no_null.shape)\n",
    "\n",
    "# Removing the un needed pitch calls\n",
    "# We dont want foul ball, strike swinging, etc as the location of those pitches may throw the model off\n",
    "df_filtered = classification_needs[classification_needs[\"PitchCall\"].isin(['StrikeCalled', 'BallCalled'])]\n",
    "\n",
    "# remove two rows with null entries\n",
    "df_filt_no_null = df_filtered.dropna()\n",
    "\n",
    "\n",
    "print(df_filt_no_null.head())\n",
    "print(df_filt_no_null.shape)\n",
    "\n"
   ]
  },
  {
   "cell_type": "markdown",
   "metadata": {
    "id": "_OQpHCQAIWjj"
   },
   "source": [
    "# Define the area of the strike zone and remove outliers."
   ]
  },
  {
   "cell_type": "code",
   "execution_count": null,
   "metadata": {
    "colab": {
     "base_uri": "https://localhost:8080/"
    },
    "id": "8hGzmAUXIafT",
    "outputId": "24b56818-4f40-4138-de72-8bee2b2634b2"
   },
   "outputs": [
    {
     "name": "stdout",
     "output_type": "stream",
     "text": [
      "(1777, 3)\n"
     ]
    }
   ],
   "source": [
    "# in this section I want to remove pitches that were above 5 ft and below 0ft in height\n",
    "\n",
    "# Strike Zone\n",
    "UPPER = 3.3773\n",
    "LOWER = 1.5\n",
    "SIDE = .83083\n",
    "\n",
    "# Define the coordinates for the box (xmin, ymin, width, height)\n",
    "xmin = -1 * SIDE  # value for the lower left x-coordinate of the box\n",
    "ymin = LOWER  # value for the lower left y-coordinate of the box\n",
    "width = 2 * SIDE # Width of the box\n",
    "height = UPPER - LOWER # Height of the box\n",
    "\n",
    "\n",
    "# Remove all entries in the height column greater than 5 or less than equal to 0\n",
    "df_filtered = df_filt_no_null[df_filt_no_null['PlateLocHeight'] >= 0]\n",
    "df_filtered = df_filtered[df_filtered['PlateLocHeight'] < 5]\n",
    "\n",
    "\n",
    "print(df_filtered.shape)"
   ]
  },
  {
   "cell_type": "markdown",
   "metadata": {
    "id": "DE_pgeW5LsCT"
   },
   "source": [
    "We removed around 80 entries with unsatisfactory heights.\n",
    "\n"
   ]
  },
  {
   "cell_type": "markdown",
   "metadata": {},
   "source": [
    "# Removing False Calls\n",
    "In the following cell we will write some code to remove false balls and false strikes.\n",
    "\n",
    "I.e if in the picture the ball is inside the strikezone but called a ball it will be removed, along with strikes called balls."
   ]
  },
  {
   "cell_type": "code",
   "execution_count": null,
   "metadata": {
    "colab": {
     "base_uri": "https://localhost:8080/",
     "height": 352
    },
    "id": "a7EPU4jCOB6s",
    "outputId": "f2f903ea-bc0b-4073-af32-24c2161bda13"
   },
   "outputs": [
    {
     "name": "stdout",
     "output_type": "stream",
     "text": [
      "(1456, 3)\n"
     ]
    }
   ],
   "source": [
    "def remove_false_call():\n",
    "    global df_filtered  # Declare df_filtered as global\n",
    "\n",
    "    i = 0  # Initialize an index counter\n",
    "    while i < len(df_filtered):\n",
    "        entry = df_filtered.iloc[i]\n",
    "\n",
    "        if entry['PitchCall'] == 'BallCalled':\n",
    "            # If it's a ball but inside the strike zone, remove it\n",
    "            if in_range(xmin, xmin + width, entry['PlateLocSide']) and in_range(ymin, ymin + height, entry['PlateLocHeight']):\n",
    "                df_filtered = df_filtered.drop(df_filtered.index[i])\n",
    "                df_filtered.reset_index(drop=True, inplace=True)  # Reset index after drop\n",
    "                continue  # Skip incrementing i because the dataset has shifted\n",
    "        else:\n",
    "            # If it's a strike but outside the strike zone, remove it\n",
    "            if not in_range(xmin, xmin + width, entry['PlateLocSide']) or not in_range(ymin, ymin + height, entry['PlateLocHeight']):\n",
    "                df_filtered = df_filtered.drop(df_filtered.index[i])\n",
    "                df_filtered.reset_index(drop=True, inplace=True)  # Reset index after drop\n",
    "                continue  # Skip incrementing i because the dataset has shifted\n",
    "\n",
    "        i += 1  # Increment the index only if no rows were dropped\n",
    "\n",
    "def in_range(lower,upper,val) -> bool:\n",
    "  return lower <= val <= upper\n",
    "\n",
    "remove_false_call()\n",
    "\n",
    "\n",
    "print(df_filtered.shape)\n"
   ]
  },
  {
   "cell_type": "markdown",
   "metadata": {
    "id": "LVXYxpujHcjU"
   },
   "source": [
    "# Plotting/ Creating images for classification\n",
    "Below is some code to plot some of the pitches, added a \"strike-zone\" in\n",
    "the picture.\n"
   ]
  },
  {
   "cell_type": "code",
   "execution_count": 18,
   "metadata": {
    "id": "15jGwtQBBxK_"
   },
   "outputs": [],
   "source": [
    "#plotting some of the entries\n",
    "import matplotlib.pyplot as plt\n",
    "import io\n",
    "from PIL import Image\n",
    "\n",
    "## List to store the images\n",
    "image_list = []\n",
    "\n",
    "\n",
    "# Get the global min and max for PlateLocSide and PlateLocHeight\n",
    "x_min = df_filtered['PlateLocSide'].min() + .2\n",
    "x_max = df_filtered['PlateLocSide'].max() + .2\n",
    "y_min = df_filtered['PlateLocHeight'].min() + .2\n",
    "y_max = df_filtered['PlateLocHeight'].max() + .2\n",
    "\n",
    "\n",
    "\n",
    "# Create scatter plots one by one, plotting only a single entry per plot\n",
    "#for i in range(len(df_filtered)):\n",
    "for i in range(len(df_filtered)):\n",
    "    # Get the specific entry to plot (single row)\n",
    "    entry = df_filtered.iloc[i]\n",
    "\n",
    "    # Create a new figure for each plot\n",
    "    plt.figure(figsize=(8, 6))\n",
    "    plt.axis('off')\n",
    "    plt.tick_params(axis='both', left=False, top=False, right=False, bottom=False, labelleft=False, labeltop=False, labelright=False, labelbottom=False)\n",
    "\n",
    "\n",
    "    # Plot just the single entry (PlateLocSide, PlateLocHeight)\n",
    "    plt.scatter(entry['PlateLocSide'], entry['PlateLocHeight'], color='blue', s=100, edgecolors='k', label=f'Entry {i+1}')\n",
    "\n",
    "    # Create the rectangle (box) and add it to plot\n",
    "    box = plt.Rectangle((xmin, ymin), width, height, linewidth=2, edgecolor='orange', facecolor='none', linestyle='solid')\n",
    "    plt.gca().add_patch(box)\n",
    "\n",
    "    # Set axis limits to ensure consistent plot size\n",
    "    plt.xlim(x_min, x_max)\n",
    "    plt.ylim(y_min, y_max)\n",
    "\n",
    "   \n",
    "\n",
    "    # Save the plot to a BytesIO object (in-memory image)\n",
    "    img_buffer = io.BytesIO()\n",
    "    plt.savefig(img_buffer, dpi=100, bbox_inches='tight', pad_inches=0.0,format='png')\n",
    "    img_buffer.seek(0)\n",
    "\n",
    "    # Open the image from the buffer and append to the list\n",
    "    img = Image.open(img_buffer)\n",
    "    image_list.append(img)\n",
    "\n",
    "    # Close the plot to avoid overlapping\n",
    "    plt.close()\n",
    "\n"
   ]
  },
  {
   "cell_type": "markdown",
   "metadata": {},
   "source": [
    "# Classifying our images"
   ]
  },
  {
   "cell_type": "code",
   "execution_count": 19,
   "metadata": {},
   "outputs": [
    {
     "name": "stdout",
     "output_type": "stream",
     "text": [
      "(32, 32, 4)\n",
      "1.0 1.0\n"
     ]
    }
   ],
   "source": [
    "import cv2\n",
    "import numpy as np\n",
    "\n",
    "normalized_image_list = []\n",
    "\n",
    "#Load an image \n",
    "for i in range(len(image_list)):\n",
    "    image = image_list[i] \n",
    "   \n",
    "    resized_image = image.resize((32, 32))\n",
    "        \n",
    "    # Convert the image to a numpy array\n",
    "    image_array = np.array(resized_image)\n",
    "        \n",
    "    # Normalize the image to the range [0, 1]\n",
    "    normalized_image = image_array.astype(np.float32) / 255.0\n",
    "        \n",
    "    # Append the processed image to the list\n",
    "    normalized_image_list.append(normalized_image)\n",
    "\n",
    "\n",
    "    \n",
    "\n",
    "\n",
    "#Check the result\n",
    "print(normalized_image_list[0].shape)  \n",
    "print(normalized_image[0].min(), normalized_image[0].max())  # Output: 0.0 1.0\n"
   ]
  },
  {
   "cell_type": "code",
   "execution_count": 20,
   "metadata": {},
   "outputs": [
    {
     "data": {
      "image/png": "[encoded data removed]",
      "text/plain": [
       "<Figure size 640x480 with 1 Axes>"
      ]
     },
     "metadata": {},
     "output_type": "display_data"
    }
   ],
   "source": [
    "# Display the image using matplotlib\n",
    "plt.imshow(normalized_image_list[0])\n",
    "plt.axis('off')  # Turn off axis for a cleaner look\n",
    "plt.show()"
   ]
  },
  {
   "cell_type": "code",
   "execution_count": 21,
   "metadata": {},
   "outputs": [
    {
     "name": "stdout",
     "output_type": "stream",
     "text": [
      "Balls called:  1165\n",
      "Strikes called:  291\n"
     ]
    }
   ],
   "source": [
    "# the variable which holds the classified images\n",
    "image_classification = {\"BallCalled\": [], \"StrikeCalled\": []}\n",
    "\n",
    "\n",
    "for i in range(len(df_filtered)):\n",
    "    obs = df_filtered.iloc[i]\n",
    "    if obs[\"PitchCall\"] == \"BallCalled\":\n",
    "        image_classification[\"BallCalled\"].append(image_list[i])\n",
    "    else:\n",
    "        image_classification[\"StrikeCalled\"].append(image_list[i])  \n",
    "        \n",
    "print(\"Balls called: \", len(image_classification[\"BallCalled\"]))\n",
    "print(\"Strikes called: \", len(image_classification[\"StrikeCalled\"]))\n"
   ]
  },
  {
   "cell_type": "markdown",
   "metadata": {},
   "source": [
    "From here we can see that we have classified our images into two-classes, \"BallCalled\" and \"StrkeCalled\", there are 1165 in BallCalled and 291 in StrikeCalled."
   ]
  },
  {
   "cell_type": "markdown",
   "metadata": {},
   "source": [
    "### **Quick Dataset Overview**\n",
    "In this Jupyter Notebook, we loaded a dataset containing **3,341 rows** and **141 columns**. The dataset represents detailed pitch-level data from college baseball scrimmages. For our classification task, we focused on three specific columns:\n",
    "- **`PitchCall`**: A categorical column with values such as `'BallCalled'`, `'StrikeCalled'`, `'StrikeSwinging'`, and `'FoulBall'`.\n",
    "- **`PlateLocHeight`**: A numerical column representing the vertical position where the pitch crossed the plate.\n",
    "- **`PlateLocSide`**: A numerical column representing the horizontal position where the pitch crossed the plate.\n",
    "\n",
    "# Results:\n",
    "\n",
    "The dataset is huge with 3341 rows and 141 columns. However we only needed 3-rows for our classification. We needed \"PitchCall\", \"PlateLocHeight\", \"PlateLocSide\". Pitch call was a categrocical column with values like; 'BallCalled\", \"StrikeCalled\", StrikeSwinging\", \"FoulBall\". However all we needed was the called pitches so we removed all the rows which contained a non-called value. Then to account for outliers, and human error when it comes to calling balls and strikes we removed all observations with pitches that had a PlateLocHeigh of greater than 5, and less than zero. As-well as removed all of the of the pitches that were misscalled. With that we took pitches that were called balls and made sure with its location was outside of our defined strike zone. We did a similar approach with called strikes were we made sure they were inside the defined strike zone.\n",
    "\n",
    "\n",
    "From here we then plotted all of the pitches, we did this as there were no datasets available that contained adequate numbers, and quality of images. When plotting the images we decided to remove the borders and axis. While adding a orange rectange which is in the same locationa and size on all images. As well as a purple cirlce which represents the location the pitched crossed the plate. \n",
    "\n",
    "After this we went through and pre-processed the images to get them ready for training. To do this we made sure all the pixels in the image were in the range [0,1] and all of the images were of equal size i.e 32x32 pixels.\n",
    "\n",
    "\n",
    "\n",
    "\n",
    "\n",
    "\n",
    "\n",
    "\n",
    "\n"
   ]
  }
 ],
 "metadata": {
  "colab": {
   "provenance": []
  },
  "kernelspec": {
   "display_name": "Python 3",
   "name": "python3"
  },
  "language_info": {
   "codemirror_mode": {
    "name": "ipython",
    "version": 3
   },
   "file_extension": ".py",
   "mimetype": "text/x-python",
   "name": "python",
   "nbconvert_exporter": "python",
   "pygments_lexer": "ipython3",
   "version": "3.12.2"
  }
 },
 "nbformat": 4,
 "nbformat_minor": 0
}
