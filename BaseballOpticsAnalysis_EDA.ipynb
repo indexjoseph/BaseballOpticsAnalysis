{
 "cells": [
  {
   "cell_type": "markdown",
   "metadata": {
    "id": "939oo4zUweUj"
   },
   "source": [
    "  ### **Final Project**: Baseball Optics Analysis - Exploratory Data Analysis\n",
    "   - Name: Andrew Lang, Joseph Oladeji, Richard Prange\n",
    "   - Class Name: MATH475 - Statistical Machine Learning"
   ]
  },
  {
   "cell_type": "markdown",
   "metadata": {
    "id": "c3CMZGldw73I"
   },
   "source": [
    "The **Track_Combo.csv** dataset contains **3,344** observations with **141 columns** from 21 different scrimmages. It includes detailed pitch-level data from college baseball scrimmages, recorded by TrackMan V3. The dataset also captures various pitch characteristics, such as the pitcher's and batter's information, pitch speed, trajectory, and confidence metrics as well as both numerical and categorical fields, and includes confidence ratings on certain metrics.\n",
    "\n",
    "We are interested in called balls and strikes. Thus to do this we will go through a proces of eliminating pictches and columns not needed for our classification needs.\n",
    "\n",
    "Reference:\n",
    "\n",
    "Pifer, N. D. P. (2024, September 16). Optical tracking data from college baseball scrimmages. Mendeley Data. https://data.mendeley.com/datasets/xfnz6mkdzm/3"
   ]
  },
  {
   "cell_type": "code",
   "execution_count": 2,
   "metadata": {
    "colab": {
     "base_uri": "https://localhost:8080/"
    },
    "id": "SBbo7GZWq2-q",
    "outputId": "84d2b2fe-b774-43a4-b406-dddc189e66bc"
   },
   "outputs": [
    {
     "name": "stdout",
     "output_type": "stream",
     "text": [
      "       PitchCall  PlateLocHeight  PlateLocSide\n",
      "2   StrikeCalled         2.30084      -0.80157\n",
      "4     BallCalled         2.89414      -1.49088\n",
      "10    BallCalled         1.00717      -0.16006\n",
      "13    BallCalled         0.34854      -2.32798\n",
      "15    BallCalled         0.70726      -2.10070\n",
      "(1854, 3)\n"
     ]
    }
   ],
   "source": [
    "# Remove unessicary columns before eda\n",
    "\n",
    "import pandas as pd\n",
    "\n",
    "# Read the data\n",
    "baseball_data = pd.read_csv(\"Track_Combo.csv\")\n",
    "cols_to_not_drop = [\"PitchCall\", \"PlateLocHeight\", \"PlateLocSide\"]\n",
    "\n",
    "\n",
    "# remove all of the colums that dont pertain to the outcome of the pitch and its location\n",
    "classification_needs = baseball_data[cols_to_not_drop]\n",
    "#print(classification_needs)\n",
    "\n",
    "# Removing the un needed pitch calls\n",
    "# We dont want foul ball, strike swinging, etc as the location of those pitches may throw the model off\n",
    "df_filtered = classification_needs[classification_needs[\"PitchCall\"].isin(['StrikeCalled', 'BallCalled'])]\n",
    "\n",
    "# remove two rows with null entries\n",
    "df_filt_no_null = df_filtered.dropna()\n",
    "\n",
    "\n",
    "print(df_filt_no_null.head())\n",
    "print(df_filt_no_null.shape)\n",
    "\n"
   ]
  },
  {
   "cell_type": "markdown",
   "metadata": {
    "id": "_OQpHCQAIWjj"
   },
   "source": [
    "# Define the area of the strike zone and remove outliers."
   ]
  },
  {
   "cell_type": "code",
   "execution_count": null,
   "metadata": {
    "colab": {
     "base_uri": "https://localhost:8080/"
    },
    "id": "8hGzmAUXIafT",
    "outputId": "24b56818-4f40-4138-de72-8bee2b2634b2"
   },
   "outputs": [
    {
     "name": "stdout",
     "output_type": "stream",
     "text": [
      "(1777, 3)\n"
     ]
    }
   ],
   "source": [
    "# in this section I want to remove pitches that were above 5 ft and below 0ft in height\n",
    "\n",
    "# Strike Zone\n",
    "UPPER = 3.3773\n",
    "LOWER = 1.5\n",
    "SIDE = .83083\n",
    "\n",
    "# Define the coordinates for the box (xmin, ymin, width, height)\n",
    "xmin = -1 * SIDE  # value for the lower left x-coordinate of the box\n",
    "ymin = LOWER  # value for the lower left y-coordinate of the box\n",
    "width = 2 * SIDE # Width of the box\n",
    "height = UPPER - LOWER # Height of the box\n",
    "\n",
    "\n",
    "# Remove all entries in the height column greater than 5 or less than equal to 0\n",
    "df_filtered = df_filt_no_null[df_filt_no_null['PlateLocHeight'] >= 0]\n",
    "df_filtered = df_filtered[df_filtered['PlateLocHeight'] < 5]\n",
    "\n",
    "\n",
    "print(df_filtered.shape)"
   ]
  },
  {
   "cell_type": "markdown",
   "metadata": {
    "id": "DE_pgeW5LsCT"
   },
   "source": [
    "We removed around 80 entries with unsatisfactory heights.\n",
    "\n"
   ]
  },
  {
   "cell_type": "markdown",
   "metadata": {},
   "source": [
    "# Removing False Calls\n",
    "In the following cell we will write some code to remove false balls and false strikes.\n",
    "\n",
    "I.e if in the picture the ball is inside the strikezone but called a ball it will be removed, along with strikes called balls."
   ]
  },
  {
   "cell_type": "code",
   "execution_count": null,
   "metadata": {
    "colab": {
     "base_uri": "https://localhost:8080/",
     "height": 352
    },
    "id": "a7EPU4jCOB6s",
    "outputId": "f2f903ea-bc0b-4073-af32-24c2161bda13"
   },
   "outputs": [
    {
     "name": "stdout",
     "output_type": "stream",
     "text": [
      "(1456, 3)\n"
     ]
    }
   ],
   "source": [
    "def remove_false_call():\n",
    "    global df_filtered  # Declare df_filtered as global\n",
    "\n",
    "    i = 0  # Initialize an index counter\n",
    "    while i < len(df_filtered):\n",
    "        entry = df_filtered.iloc[i]\n",
    "\n",
    "        if entry['PitchCall'] == 'BallCalled':\n",
    "            # If it's a ball but inside the strike zone, remove it\n",
    "            if in_range(xmin, xmin + width, entry['PlateLocSide']) and in_range(ymin, ymin + height, entry['PlateLocHeight']):\n",
    "                df_filtered = df_filtered.drop(df_filtered.index[i])\n",
    "                df_filtered.reset_index(drop=True, inplace=True)  # Reset index after drop\n",
    "                continue  # Skip incrementing i because the dataset has shifted\n",
    "        else:\n",
    "            # If it's a strike but outside the strike zone, remove it\n",
    "            if not in_range(xmin, xmin + width, entry['PlateLocSide']) or not in_range(ymin, ymin + height, entry['PlateLocHeight']):\n",
    "                df_filtered = df_filtered.drop(df_filtered.index[i])\n",
    "                df_filtered.reset_index(drop=True, inplace=True)  # Reset index after drop\n",
    "                continue  # Skip incrementing i because the dataset has shifted\n",
    "\n",
    "        i += 1  # Increment the index only if no rows were dropped\n",
    "\n",
    "def in_range(lower,upper,val) -> bool:\n",
    "  return lower <= val <= upper\n",
    "\n",
    "remove_false_call()\n",
    "\n",
    "\n",
    "print(df_filtered.shape)\n"
   ]
  },
  {
   "cell_type": "markdown",
   "metadata": {
    "id": "LVXYxpujHcjU"
   },
   "source": [
    "# Plotting/ Creating images for classification\n",
    "Below is some code to plot some of the pitches, added a \"strike-zone\" in\n",
    "the picture.\n"
   ]
  },
  {
   "cell_type": "code",
   "execution_count": 9,
   "metadata": {
    "id": "15jGwtQBBxK_"
   },
   "outputs": [],
   "source": [
    "#plotting some of the entries\n",
    "import matplotlib.pyplot as plt\n",
    "import io\n",
    "from PIL import Image\n",
    "\n",
    "## List to store the images\n",
    "image_list = []\n",
    "\n",
    "\n",
    "# Get the global min and max for PlateLocSide and PlateLocHeight\n",
    "x_min = df_filtered['PlateLocSide'].min() + .2\n",
    "x_max = df_filtered['PlateLocSide'].max() + .2\n",
    "y_min = df_filtered['PlateLocHeight'].min() + .2\n",
    "y_max = df_filtered['PlateLocHeight'].max() + .2\n",
    "\n",
    "\n",
    "\n",
    "# Create scatter plots one by one, plotting only a single entry per plot\n",
    "#for i in range(len(df_filtered)):\n",
    "for i in range(len(df_filtered)):\n",
    "    # Get the specific entry to plot (single row)\n",
    "    entry = df_filtered.iloc[i]\n",
    "\n",
    "    # Create a new figure for each plot\n",
    "    plt.figure(figsize=(8, 6))\n",
    "\n",
    "    # Plot just the single entry (PlateLocSide, PlateLocHeight)\n",
    "    plt.scatter(entry['PlateLocSide'], entry['PlateLocHeight'], color='blue', s=100, edgecolors='k', label=f'Entry {i+1}')\n",
    "\n",
    "    # Create the rectangle (box) and add it to plot\n",
    "    box = plt.Rectangle((xmin, ymin), width, height, linewidth=2, edgecolor='orange', facecolor='none', linestyle='solid')\n",
    "    plt.gca().add_patch(box)\n",
    "\n",
    "    # Set axis limits to ensure consistent plot size\n",
    "    plt.xlim(x_min, x_max)\n",
    "    plt.ylim(y_min, y_max)\n",
    "\n",
    "    # Add titles and labels\n",
    "    plt.title(f'Scatter Plot with Box - Entry {i+1} with result {entry[\"PitchCall\"]}', fontsize=14)\n",
    "    plt.xlabel('PlateLocSide', fontsize=12)\n",
    "    plt.ylabel('PlateLocHeight', fontsize=12)\n",
    "\n",
    "    # Save the plot to a BytesIO object (in-memory image)\n",
    "    img_buffer = io.BytesIO()\n",
    "    plt.savefig(img_buffer, format='png')\n",
    "    img_buffer.seek(0)\n",
    "\n",
    "    # Open the image from the buffer and append to the list\n",
    "    img = Image.open(img_buffer)\n",
    "    image_list.append(img)\n",
    "\n",
    "    # Close the plot to avoid overlapping\n",
    "    plt.close()\n",
    "\n"
   ]
  },
  {
   "cell_type": "markdown",
   "metadata": {},
   "source": [
    "# Classifying our images"
   ]
  },
  {
   "cell_type": "code",
   "execution_count": 15,
   "metadata": {},
   "outputs": [
    {
     "ename": "error",
     "evalue": "OpenCV(4.10.0) :-1: error: (-5:Bad argument) in function 'cvtColor'\n> Overload resolution failed:\n>  - src is not a numpy array, neither a scalar\n>  - Expected Ptr<cv::UMat> for argument 'src'\n",
     "output_type": "error",
     "traceback": [
      "\u001b[1;31m---------------------------------------------------------------------------\u001b[0m",
      "\u001b[1;31merror\u001b[0m                                     Traceback (most recent call last)",
      "Cell \u001b[1;32mIn[15], line 9\u001b[0m\n\u001b[0;32m      7\u001b[0m \u001b[38;5;28;01mfor\u001b[39;00m i \u001b[38;5;129;01min\u001b[39;00m \u001b[38;5;28mrange\u001b[39m(\u001b[38;5;28mlen\u001b[39m(image_list)):\n\u001b[0;32m      8\u001b[0m     image \u001b[38;5;241m=\u001b[39m image_list[i] \n\u001b[1;32m----> 9\u001b[0m     image \u001b[38;5;241m=\u001b[39m \u001b[43mcv2\u001b[49m\u001b[38;5;241;43m.\u001b[39;49m\u001b[43mcvtColor\u001b[49m\u001b[43m(\u001b[49m\u001b[43mimage\u001b[49m\u001b[43m,\u001b[49m\u001b[43m \u001b[49m\u001b[43mcv2\u001b[49m\u001b[38;5;241;43m.\u001b[39;49m\u001b[43mCOLOR_BGR2RGB\u001b[49m\u001b[43m)\u001b[49m  \u001b[38;5;66;03m# Convert to RGB\u001b[39;00m\n\u001b[0;32m     11\u001b[0m     \u001b[38;5;66;03m#esize image to 32x32\u001b[39;00m\n\u001b[0;32m     12\u001b[0m     resized_image \u001b[38;5;241m=\u001b[39m cv2\u001b[38;5;241m.\u001b[39mresize(image, (\u001b[38;5;241m32\u001b[39m, \u001b[38;5;241m32\u001b[39m))\n",
      "\u001b[1;31merror\u001b[0m: OpenCV(4.10.0) :-1: error: (-5:Bad argument) in function 'cvtColor'\n> Overload resolution failed:\n>  - src is not a numpy array, neither a scalar\n>  - Expected Ptr<cv::UMat> for argument 'src'\n"
     ]
    }
   ],
   "source": [
    "import cv2\n",
    "import numpy as np\n",
    "\n",
    "normalized_image_list = []\n",
    "\n",
    "#Load an image \n",
    "for i in range(len(image_list)):\n",
    "    image = image_list[i] \n",
    "    image = cv2.cvtColor(image, cv2.COLOR_BGR2RGB)  # Convert to RGB\n",
    "\n",
    "    #esize image to 32x32\n",
    "    resized_image = cv2.resize(image, (32, 32))\n",
    "\n",
    "    #Normalize pixel values to the range [0, 1]\n",
    "    normalized_image = resized_image / 255.0\n",
    "    normalized_image_list.append(normalized_image)\n",
    "\n",
    "#Check the result\n",
    "print(normalized_image_list[0].shape)  # Output: (32, 32, 3)\n",
    "print(normalized_image[0].min(), normalized_image[0].max())  # Output: 0.0 1.0\n"
   ]
  },
  {
   "cell_type": "code",
   "execution_count": null,
   "metadata": {},
   "outputs": [
    {
     "name": "stdout",
     "output_type": "stream",
     "text": [
      "Balls called:  1165\n",
      "Strikes called:  291\n"
     ]
    }
   ],
   "source": [
    "# the variable which holds the classified images\n",
    "image_classification = {\"BallCalled\": [], \"StrikeCalled\": []}\n",
    "\n",
    "\n",
    "for i in range(len(df_filtered)):\n",
    "    obs = df_filtered.iloc[i]\n",
    "    if obs[\"PitchCall\"] == \"BallCalled\":\n",
    "        image_classification[\"BallCalled\"].append(image_list[i])\n",
    "    else:\n",
    "        image_classification[\"StrikeCalled\"].append(image_list[i])  \n",
    "        \n",
    "print(\"Balls called: \", len(image_classification[\"BallCalled\"]))\n",
    "print(\"Strikes called: \", len(image_classification[\"StrikeCalled\"]))\n"
   ]
  },
  {
   "cell_type": "markdown",
   "metadata": {},
   "source": [
    "From here we can see that we have classified our images into two-classes, \"BallCalled\" and \"StrkeCalled\", there are 1165 in BallCalled and 291 in StrikeCalled."
   ]
  },
  {
   "cell_type": "markdown",
   "metadata": {},
   "source": [
    "# Preprocessing"
   ]
  },
  {
   "cell_type": "code",
   "execution_count": null,
   "metadata": {},
   "outputs": [],
   "source": [
    "# Section to get data ready to be trained\n",
    "\n",
    "plt.imshow\n",
    "\n"
   ]
  },
  {
   "cell_type": "markdown",
   "metadata": {
    "id": "3ewVlJLdqpsv"
   },
   "source": [
    "### **Handling Missing Values**"
   ]
  },
  {
   "cell_type": "code",
   "execution_count": null,
   "metadata": {
    "id": "vg8HYJGzqpsx"
   },
   "outputs": [],
   "source": [
    "# # Replace missing values with the median for numerical features\n",
    "# numerical_features = baseball_data.select_dtypes(include='number').columns\n",
    "# baseball_data[numerical_features] = baseball_data[numerical_features].fillna(baseball_data[numerical_features].median())\n",
    "\n",
    "# # Replace missing values with the mode for categorical features\n",
    "# categorical_features = baseball_data.select_dtypes(include='object').columns\n",
    "# baseball_data[categorical_features] = baseball_data[categorical_features].fillna(baseball_data[categorical_features].mode().iloc[0])\n",
    "\n",
    "\n",
    "# Define a custom Winsorized median imputation function,\n",
    "# istead of directly using the median, use a Winsorized median to limit the\n",
    "# influence of extreme outliers on the imputation.\n",
    "def winsorized_median_impute(column):\n",
    "    q1 = column.quantile(0.25)\n",
    "    q3 = column.quantile(0.75)\n",
    "    iqr = q3 - q1\n",
    "    lower_bound = q1 - 1.5 * iqr\n",
    "    upper_bound = q3 + 1.5 * iqr\n",
    "    return column.clip(lower_bound, upper_bound).median()\n",
    "\n",
    "# Apply the Winsorized median imputation to numerical features\n",
    "numerical_features = baseball_data.select_dtypes(include='number').columns\n",
    "for feature in numerical_features:\n",
    "    median_value = winsorized_median_impute(baseball_data[feature].dropna())\n",
    "    baseball_data[feature] = baseball_data[feature].fillna(median_value)\n"
   ]
  },
  {
   "cell_type": "markdown",
   "metadata": {
    "id": "uvOPQdcKqpsz"
   },
   "source": [
    "1. **Identifying Missing Values**:\n",
    "   - Upon examining the dataset, we observed that several columns contain missing values. Here are some notable columns and the percentage of missing values:\n",
    "     - `AutoHitType`: 81.85% missing\n",
    "     - `HitLaunchConfidence`: 75.66% missing\n",
    "     - `CatcherThrowCatchConfidence`: 96.47% missing\n",
    "     - `RelSpeed` (Release Speed): 0.15% missing\n",
    "     - `VertRelAngle` and `HorzRelAngle` (Angles of Release): 0.15% missing\n",
    "   - Columns with substantial gaps, such as `CatcherThrowCatchConfidence` and `AutoHitType`, require careful consideration, as their high missing values may indicate either optional data or less reliable fields. Identifying these missing values early guided our approach to handle them effectively.\n",
    "\n",
    "2. **Filling Missing Values**:\n",
    "   - **Numerical Features**: For numerical columns, including `RelSpeed`, `VertRelAngle`, and `HorzRelAngle`, we replaced missing values with the **median** of each column. This approach minimizes the impact of outliers on the data’s central tendency.\n",
    "   - **Categorical Features**: For categorical columns, such as `AutoPitchType` and `AutoHitType`, we filled missing values using the **mode** (most frequent value) for each feature. Filling with the mode helps preserve the integrity of categorical data by aligning filled values with the most common entries.\n",
    "\n",
    "3. **Impact on Data Quality**:\n",
    "   - By addressing missing values, we created a more complete dataset, reducing biases that could arise from leaving gaps or removing rows with missing data.\n",
    "   - This approach ensures the dataset's consistency, which helps maintain its overall distribution and supports accurate model training.\n",
    "\n",
    "This strategy enables robust modeling by reducing information loss while maintaining the dataset's structure and distribution.\n"
   ]
  },
  {
   "cell_type": "markdown",
   "metadata": {
    "id": "UtehwRR7qps0"
   },
   "source": [
    "### **Identify Numerical & Categorical Features and Identify/Plot Outliers**"
   ]
  },
  {
   "cell_type": "code",
   "execution_count": null,
   "metadata": {
    "id": "nWM3T7Weqps3",
    "outputId": "fb614003-99a0-4087-a153-a05663864f81"
   },
   "outputs": [
    {
     "ename": "ModuleNotFoundError",
     "evalue": "No module named 'matplotlib'",
     "output_type": "error",
     "traceback": [
      "\u001b[1;31m---------------------------------------------------------------------------\u001b[0m",
      "\u001b[1;31mModuleNotFoundError\u001b[0m                       Traceback (most recent call last)",
      "Cell \u001b[1;32mIn[1], line 1\u001b[0m\n\u001b[1;32m----> 1\u001b[0m \u001b[38;5;28;01mimport\u001b[39;00m \u001b[38;5;21;01mmatplotlib\u001b[39;00m\u001b[38;5;21;01m.\u001b[39;00m\u001b[38;5;21;01mpyplot\u001b[39;00m \u001b[38;5;28;01mas\u001b[39;00m \u001b[38;5;21;01mplt\u001b[39;00m\n\u001b[0;32m      2\u001b[0m \u001b[38;5;28;01mimport\u001b[39;00m \u001b[38;5;21;01mseaborn\u001b[39;00m \u001b[38;5;28;01mas\u001b[39;00m \u001b[38;5;21;01msns\u001b[39;00m\n\u001b[0;32m      4\u001b[0m \u001b[38;5;66;03m# Identifying the numerical features\u001b[39;00m\n",
      "\u001b[1;31mModuleNotFoundError\u001b[0m: No module named 'matplotlib'"
     ]
    }
   ],
   "source": [
    "import matplotlib.pyplot as plt\n",
    "import seaborn as sns\n",
    "\n",
    "# Identifying the numerical features\n",
    "numer_feats = baseball_data.select_dtypes(include=['float64', 'int64']).columns\n",
    "print(\"Numerical features: \", numer_feats)\n",
    "\n",
    "# Identifying the categorial features\n",
    "categorical_feats = baseball_data.select_dtypes(include=['object']).columns\n",
    "print(\"\\nCategorical features:\", categorical_feats)\n",
    "\n",
    "# Relationship between Pitch Call and Release Speed to identify outliers\n",
    "plt.figure(figsize=(12, 8))\n",
    "plt.title(\"Release Speed vs Pitch Call\")\n",
    "sns.boxplot(x=baseball_data['PitchCall'], y=baseball_data['RelSpeed'])\n",
    "plt.xlabel(\"Pitch Call\")\n",
    "plt.ylabel(\"Release Speed (mph)\")\n",
    "plt.show()\n",
    "\n",
    "# Relationship between Release Speed and Spin Rate to find speed-spin outliers\n",
    "plt.figure(figsize=(10, 10))\n",
    "plt.title(\"Release Speed vs Spin Rate\")\n",
    "sns.scatterplot(x=baseball_data['RelSpeed'], y=baseball_data['SpinRate'])\n",
    "plt.xlabel(\"Release Speed (mph)\")\n",
    "plt.ylabel(\"Spin Rate (rpm)\")\n",
    "plt.show()\n"
   ]
  },
  {
   "cell_type": "code",
   "execution_count": null,
   "metadata": {
    "id": "ZTgN81Whqps8",
    "outputId": "9ae61391-7a6c-4c0d-a47f-2a82ba13e271"
   },
   "outputs": [
    {
     "data": {
      "text/plain": [
       "(         PitchCall  RelSpeed\n",
       " 139         InPlay  66.84434\n",
       " 149     BallCalled  67.79554\n",
       " 169   StrikeCalled  67.65674\n",
       " 668         InPlay  67.75993\n",
       " 1463    BallCalled  64.90804\n",
       " 1470  StrikeCalled  64.80482\n",
       " 1472      FoulBall  63.91192\n",
       " 1475    BallCalled  65.49647\n",
       " 1476    BallCalled  65.37575\n",
       " 1477  StrikeCalled  65.34939\n",
       " 1478    BallCalled  64.33914\n",
       " 1480    BallCalled  63.55759\n",
       " 2054  StrikeCalled  65.09497\n",
       " 2056    HitByPitch  65.31251\n",
       " 2082  StrikeCalled  66.97812\n",
       " 2083  StrikeCalled  66.44838\n",
       " 2084    BallCalled  65.45545\n",
       " 2086    BallCalled  65.00188\n",
       " 2087    BallCalled  64.20662\n",
       " 2088    BallCalled  65.07344\n",
       " 2093    BallCalled  67.04378\n",
       " 2095        InPlay  66.66652\n",
       " 2333  StrikeCalled  66.90871\n",
       " 2336    BallCalled  65.46383\n",
       " 2338    HitByPitch  66.75317\n",
       " 2343  StrikeCalled  66.33810\n",
       " 2346        InPlay  65.93267\n",
       " 2348      FoulBall  65.35889\n",
       " 2349    BallCalled  62.65272\n",
       " 2351        InPlay  65.46431\n",
       " 2528    BallCalled  66.68877\n",
       " 2530    BallCalled  67.43543\n",
       " 2531    BallCalled  66.48008\n",
       " 2535        InPlay  67.52302\n",
       " 2549    BallCalled  66.40784\n",
       " 2554    BallCalled  66.99905\n",
       " 2558  StrikeCalled  64.37508\n",
       " 2559        InPlay  63.06186\n",
       " 2595    BallCalled  66.57063\n",
       " 3197  StrikeCalled  66.42975\n",
       " 3198    BallCalled  65.47672\n",
       " 3201    BallCalled  65.14087\n",
       " 3203      FoulBall  67.45128\n",
       " 3204    BallCalled  65.72002\n",
       " 3207        InPlay  64.91777,\n",
       "        PitchCall     SpinRate\n",
       " 1672  BallCalled  1244.349090\n",
       " 1814    FoulBall  1243.957527\n",
       " 2179  BallCalled  1251.134076\n",
       " 2326  BallCalled  1151.329931)"
      ]
     },
     "execution_count": 6,
     "metadata": {},
     "output_type": "execute_result"
    }
   ],
   "source": [
    "# Outlier boundaries for 'RelSpeed'\n",
    "Q1_speed = baseball_data['RelSpeed'].quantile(0.25)\n",
    "Q3_speed = baseball_data['RelSpeed'].quantile(0.75)\n",
    "IQR_speed = Q3_speed - Q1_speed\n",
    "outliers_speed = baseball_data[(baseball_data['RelSpeed'] < (Q1_speed - 1.5 * IQR_speed)) |\n",
    "                               (baseball_data['RelSpeed'] > (Q3_speed + 1.5 * IQR_speed))]\n",
    "\n",
    "# Outlier boundaries for 'SpinRate'\n",
    "Q1_spin = baseball_data['SpinRate'].quantile(0.25)\n",
    "Q3_spin = baseball_data['SpinRate'].quantile(0.75)\n",
    "IQR_spin = Q3_spin - Q1_spin\n",
    "outliers_spin = baseball_data[(baseball_data['SpinRate'] < (Q1_spin - 1.5 * IQR_spin)) |\n",
    "                              (baseball_data['SpinRate'] > (Q3_spin + 1.5 * IQR_spin))]\n",
    "\n",
    "# Displaying the outliers for 'RelSpeed' and 'SpinRate'\n",
    "outliers_speed[['PitchCall', 'RelSpeed']], outliers_spin[['PitchCall', 'SpinRate']]"
   ]
  },
  {
   "cell_type": "markdown",
   "metadata": {
    "id": "2IvTev3Lqps9"
   },
   "source": [
    "### 1. Visual Analysis with Boxplots and Scatterplots\n",
    "- **Boxplot of Release Speed vs. Pitch Call**: We created a boxplot comparing `PitchCall` with `RelSpeed` (release speed) to detect any speed outliers across different pitch types. This visualization helps spot if certain pitch types have speeds that deviate significantly from the average, which could be outliers.\n",
    "- **Scatterplot of Release Speed vs. Spin Rate**: We also created a scatterplot of `RelSpeed` against `SpinRate`, as unusual combinations of these two metrics could signal anomalies in pitch characteristics.\n",
    "\n",
    "### 2. Statistical Identification Using the IQR Method\n",
    "- We used the **Interquartile Range (IQR) method** to pinpoint outliers in `RelSpeed` and `SpinRate`. The IQR method identifies values as outliers if they fall outside the range of `Q1 - 1.5 * IQR` to `Q3 + 1.5 * IQR`. Specifically:\n",
    "  - **Release Speed Outliers**: Observations in `RelSpeed` that are either significantly lower or higher than the majority, indicating abnormal pitch speeds.\n",
    "  - **Spin Rate Outliers**: Similar boundaries were calculated for `SpinRate`, helping to detect pitches with atypical spin rates.\n",
    "\n",
    "This combination of boxplots, scatterplots, and the IQR method provides a thorough approach to identifying outliers in key metrics like pitch speed and spin rate. These outliers can then be addressed during preprocessing—either by transforming, removing, or handling them in a way that maintains the integrity of the dataset for subsequent analysis and model training.\n",
    "\n"
   ]
  },
  {
   "cell_type": "code",
   "execution_count": null,
   "metadata": {
    "id": "qsZuOt1Cqps9",
    "outputId": "b72e5997-7d8e-4226-fda8-026c881a8d34"
   },
   "outputs": [
    {
     "data": {
      "text/html": [
       "<div>\n",
       "<style scoped>\n",
       "    .dataframe tbody tr th:only-of-type {\n",
       "        vertical-align: middle;\n",
       "    }\n",
       "\n",
       "    .dataframe tbody tr th {\n",
       "        vertical-align: top;\n",
       "    }\n",
       "\n",
       "    .dataframe thead th {\n",
       "        text-align: right;\n",
       "    }\n",
       "</style>\n",
       "<table border=\"1\" class=\"dataframe\">\n",
       "  <thead>\n",
       "    <tr style=\"text-align: right;\">\n",
       "      <th></th>\n",
       "      <th>PitchNo</th>\n",
       "      <th>PAofInning</th>\n",
       "      <th>PitchofPA</th>\n",
       "      <th>PitcherId</th>\n",
       "      <th>BatterId</th>\n",
       "      <th>Inning</th>\n",
       "      <th>Outs</th>\n",
       "      <th>Balls</th>\n",
       "      <th>Strikes</th>\n",
       "      <th>OutsOnPlay</th>\n",
       "      <th>...</th>\n",
       "      <th>PitchMovementConfidence_Low</th>\n",
       "      <th>PitchMovementConfidence_Medium</th>\n",
       "      <th>HitLaunchConfidence_High</th>\n",
       "      <th>HitLaunchConfidence_Low</th>\n",
       "      <th>HitLaunchConfidence_Medium</th>\n",
       "      <th>HitLandingConfidence_High</th>\n",
       "      <th>HitLandingConfidence_Low</th>\n",
       "      <th>HitLandingConfidence_Medium</th>\n",
       "      <th>CatcherThrowReleaseConfidence_Medium</th>\n",
       "      <th>CatcherThrowLocationConfidence_Medium</th>\n",
       "    </tr>\n",
       "  </thead>\n",
       "  <tbody>\n",
       "    <tr>\n",
       "      <th>0</th>\n",
       "      <td>1</td>\n",
       "      <td>1</td>\n",
       "      <td>1</td>\n",
       "      <td>1000036206</td>\n",
       "      <td>1000102964</td>\n",
       "      <td>1</td>\n",
       "      <td>0</td>\n",
       "      <td>0</td>\n",
       "      <td>0</td>\n",
       "      <td>1</td>\n",
       "      <td>...</td>\n",
       "      <td>False</td>\n",
       "      <td>False</td>\n",
       "      <td>True</td>\n",
       "      <td>False</td>\n",
       "      <td>False</td>\n",
       "      <td>True</td>\n",
       "      <td>False</td>\n",
       "      <td>False</td>\n",
       "      <td>False</td>\n",
       "      <td>False</td>\n",
       "    </tr>\n",
       "    <tr>\n",
       "      <th>1</th>\n",
       "      <td>2</td>\n",
       "      <td>2</td>\n",
       "      <td>1</td>\n",
       "      <td>1000036206</td>\n",
       "      <td>8886045</td>\n",
       "      <td>1</td>\n",
       "      <td>1</td>\n",
       "      <td>0</td>\n",
       "      <td>0</td>\n",
       "      <td>0</td>\n",
       "      <td>...</td>\n",
       "      <td>False</td>\n",
       "      <td>False</td>\n",
       "      <td>True</td>\n",
       "      <td>False</td>\n",
       "      <td>False</td>\n",
       "      <td>False</td>\n",
       "      <td>True</td>\n",
       "      <td>False</td>\n",
       "      <td>False</td>\n",
       "      <td>False</td>\n",
       "    </tr>\n",
       "    <tr>\n",
       "      <th>2</th>\n",
       "      <td>3</td>\n",
       "      <td>3</td>\n",
       "      <td>1</td>\n",
       "      <td>1000036206</td>\n",
       "      <td>1000103136</td>\n",
       "      <td>1</td>\n",
       "      <td>1</td>\n",
       "      <td>0</td>\n",
       "      <td>0</td>\n",
       "      <td>0</td>\n",
       "      <td>...</td>\n",
       "      <td>False</td>\n",
       "      <td>False</td>\n",
       "      <td>True</td>\n",
       "      <td>False</td>\n",
       "      <td>False</td>\n",
       "      <td>False</td>\n",
       "      <td>True</td>\n",
       "      <td>False</td>\n",
       "      <td>False</td>\n",
       "      <td>False</td>\n",
       "    </tr>\n",
       "    <tr>\n",
       "      <th>3</th>\n",
       "      <td>4</td>\n",
       "      <td>3</td>\n",
       "      <td>2</td>\n",
       "      <td>1000036206</td>\n",
       "      <td>1000103136</td>\n",
       "      <td>1</td>\n",
       "      <td>1</td>\n",
       "      <td>0</td>\n",
       "      <td>1</td>\n",
       "      <td>0</td>\n",
       "      <td>...</td>\n",
       "      <td>False</td>\n",
       "      <td>False</td>\n",
       "      <td>True</td>\n",
       "      <td>False</td>\n",
       "      <td>False</td>\n",
       "      <td>False</td>\n",
       "      <td>True</td>\n",
       "      <td>False</td>\n",
       "      <td>False</td>\n",
       "      <td>False</td>\n",
       "    </tr>\n",
       "    <tr>\n",
       "      <th>4</th>\n",
       "      <td>5</td>\n",
       "      <td>3</td>\n",
       "      <td>3</td>\n",
       "      <td>1000036206</td>\n",
       "      <td>1000103136</td>\n",
       "      <td>1</td>\n",
       "      <td>1</td>\n",
       "      <td>0</td>\n",
       "      <td>2</td>\n",
       "      <td>0</td>\n",
       "      <td>...</td>\n",
       "      <td>False</td>\n",
       "      <td>False</td>\n",
       "      <td>True</td>\n",
       "      <td>False</td>\n",
       "      <td>False</td>\n",
       "      <td>False</td>\n",
       "      <td>True</td>\n",
       "      <td>False</td>\n",
       "      <td>False</td>\n",
       "      <td>False</td>\n",
       "    </tr>\n",
       "  </tbody>\n",
       "</table>\n",
       "<p>5 rows × 253 columns</p>\n",
       "</div>"
      ],
      "text/plain": [
       "   PitchNo  PAofInning  PitchofPA   PitcherId    BatterId  Inning  Outs  \\\n",
       "0        1           1          1  1000036206  1000102964       1     0   \n",
       "1        2           2          1  1000036206     8886045       1     1   \n",
       "2        3           3          1  1000036206  1000103136       1     1   \n",
       "3        4           3          2  1000036206  1000103136       1     1   \n",
       "4        5           3          3  1000036206  1000103136       1     1   \n",
       "\n",
       "   Balls  Strikes  OutsOnPlay  ...  PitchMovementConfidence_Low  \\\n",
       "0      0        0           1  ...                        False   \n",
       "1      0        0           0  ...                        False   \n",
       "2      0        0           0  ...                        False   \n",
       "3      0        1           0  ...                        False   \n",
       "4      0        2           0  ...                        False   \n",
       "\n",
       "   PitchMovementConfidence_Medium  HitLaunchConfidence_High  \\\n",
       "0                           False                      True   \n",
       "1                           False                      True   \n",
       "2                           False                      True   \n",
       "3                           False                      True   \n",
       "4                           False                      True   \n",
       "\n",
       "   HitLaunchConfidence_Low  HitLaunchConfidence_Medium  \\\n",
       "0                    False                       False   \n",
       "1                    False                       False   \n",
       "2                    False                       False   \n",
       "3                    False                       False   \n",
       "4                    False                       False   \n",
       "\n",
       "   HitLandingConfidence_High  HitLandingConfidence_Low  \\\n",
       "0                       True                     False   \n",
       "1                      False                      True   \n",
       "2                      False                      True   \n",
       "3                      False                      True   \n",
       "4                      False                      True   \n",
       "\n",
       "   HitLandingConfidence_Medium  CatcherThrowReleaseConfidence_Medium  \\\n",
       "0                        False                                 False   \n",
       "1                        False                                 False   \n",
       "2                        False                                 False   \n",
       "3                        False                                 False   \n",
       "4                        False                                 False   \n",
       "\n",
       "   CatcherThrowLocationConfidence_Medium  \n",
       "0                                  False  \n",
       "1                                  False  \n",
       "2                                  False  \n",
       "3                                  False  \n",
       "4                                  False  \n",
       "\n",
       "[5 rows x 253 columns]"
      ]
     },
     "execution_count": 8,
     "metadata": {},
     "output_type": "execute_result"
    }
   ],
   "source": [
    "import pandas as pd\n",
    "\n",
    "# Identify categorical features\n",
    "categorical_features = baseball_data.select_dtypes(include='object').columns\n",
    "\n",
    "# Apply one-hot encoding to categorical features\n",
    "encoded_data = pd.get_dummies(baseball_data, columns=categorical_features, drop_first=True)\n",
    "\n",
    "# Display the first few rows to verify encoding\n",
    "encoded_data.head()"
   ]
  },
  {
   "cell_type": "markdown",
   "metadata": {
    "id": "7vXhIFPmqps-"
   },
   "source": [
    "For categorical variables with a small number of unique values (e.g., `PitchCall`, `BatterSide`, `PitcherThrows`), we use one-hot encoding to convert them into binary columns. This approach transforms each category into its own binary column (0 or 1), indicating the presence of a particular category.\n"
   ]
  },
  {
   "cell_type": "markdown",
   "metadata": {
    "id": "S_Ve9eRcqps-"
   },
   "source": [
    "### **Feature Scaling: Standardization**"
   ]
  },
  {
   "cell_type": "code",
   "execution_count": null,
   "metadata": {
    "id": "RSBI-T6aqps-",
    "outputId": "3d874ac2-85ba-421d-e884-4edacfdb4528"
   },
   "outputs": [
    {
     "data": {
      "text/html": [
       "<div>\n",
       "<style scoped>\n",
       "    .dataframe tbody tr th:only-of-type {\n",
       "        vertical-align: middle;\n",
       "    }\n",
       "\n",
       "    .dataframe tbody tr th {\n",
       "        vertical-align: top;\n",
       "    }\n",
       "\n",
       "    .dataframe thead th {\n",
       "        text-align: right;\n",
       "    }\n",
       "</style>\n",
       "<table border=\"1\" class=\"dataframe\">\n",
       "  <thead>\n",
       "    <tr style=\"text-align: right;\">\n",
       "      <th></th>\n",
       "      <th>RelSpeed</th>\n",
       "      <th>SpinRate</th>\n",
       "      <th>VertRelAngle</th>\n",
       "      <th>HorzRelAngle</th>\n",
       "      <th>RelHeight</th>\n",
       "    </tr>\n",
       "  </thead>\n",
       "  <tbody>\n",
       "    <tr>\n",
       "      <th>0</th>\n",
       "      <td>-0.835390</td>\n",
       "      <td>0.874854</td>\n",
       "      <td>0.650416</td>\n",
       "      <td>-0.050051</td>\n",
       "      <td>-0.436279</td>\n",
       "    </tr>\n",
       "    <tr>\n",
       "      <th>1</th>\n",
       "      <td>0.881099</td>\n",
       "      <td>0.292997</td>\n",
       "      <td>-0.690218</td>\n",
       "      <td>-0.318671</td>\n",
       "      <td>-0.474072</td>\n",
       "    </tr>\n",
       "    <tr>\n",
       "      <th>2</th>\n",
       "      <td>-1.250311</td>\n",
       "      <td>0.785012</td>\n",
       "      <td>1.261462</td>\n",
       "      <td>-0.028305</td>\n",
       "      <td>-0.334317</td>\n",
       "    </tr>\n",
       "    <tr>\n",
       "      <th>3</th>\n",
       "      <td>0.373134</td>\n",
       "      <td>0.132908</td>\n",
       "      <td>-0.249564</td>\n",
       "      <td>-1.058377</td>\n",
       "      <td>-0.420897</td>\n",
       "    </tr>\n",
       "    <tr>\n",
       "      <th>4</th>\n",
       "      <td>0.616285</td>\n",
       "      <td>0.086109</td>\n",
       "      <td>0.309184</td>\n",
       "      <td>-1.279866</td>\n",
       "      <td>-0.549294</td>\n",
       "    </tr>\n",
       "  </tbody>\n",
       "</table>\n",
       "</div>"
      ],
      "text/plain": [
       "   RelSpeed  SpinRate  VertRelAngle  HorzRelAngle  RelHeight\n",
       "0 -0.835390  0.874854      0.650416     -0.050051  -0.436279\n",
       "1  0.881099  0.292997     -0.690218     -0.318671  -0.474072\n",
       "2 -1.250311  0.785012      1.261462     -0.028305  -0.334317\n",
       "3  0.373134  0.132908     -0.249564     -1.058377  -0.420897\n",
       "4  0.616285  0.086109      0.309184     -1.279866  -0.549294"
      ]
     },
     "execution_count": 9,
     "metadata": {},
     "output_type": "execute_result"
    }
   ],
   "source": [
    "from sklearn.preprocessing import StandardScaler\n",
    "\n",
    "# Selecting numerical features related to pitch metrics for scaling\n",
    "pitch_metrics = ['RelSpeed', 'SpinRate', 'VertRelAngle', 'HorzRelAngle', 'RelHeight']\n",
    "\n",
    "# Applying standardization (z-score scaling) to these selected pitch metrics\n",
    "scaler = StandardScaler()\n",
    "baseball_data[pitch_metrics] = scaler.fit_transform(baseball_data[pitch_metrics])\n",
    "\n",
    "# Displaying the first few rows of the dataset to verify scaling\n",
    "baseball_data[pitch_metrics].head()\n"
   ]
  },
  {
   "cell_type": "code",
   "execution_count": null,
   "metadata": {
    "colab": {
     "base_uri": "https://localhost:8080/"
    },
    "id": "EJkOekXmvzgJ",
    "outputId": "0db3dc2c-e419-4478-9815-2f2c95267583"
   },
   "outputs": [
    {
     "name": "stdout",
     "output_type": "stream",
     "text": [
      "Dimensions of the Dataset: (3344, 141)\n",
      "\n",
      "Feature Names and Types:\n",
      " PitchNo                            int64\n",
      "Date                              object\n",
      "PAofInning                         int64\n",
      "PitchofPA                          int64\n",
      "PitcherId                          int64\n",
      "                                   ...  \n",
      "HitLandingConfidence              object\n",
      "CatcherThrowCatchConfidence       object\n",
      "CatcherThrowReleaseConfidence     object\n",
      "CatcherThrowLocationConfidence    object\n",
      "System                            object\n",
      "Length: 141, dtype: object\n",
      "\n",
      "Columns with Missing Values and Percentage:\n",
      " AutoPitchType                      0.179426\n",
      "AutoHitType                       81.848086\n",
      "RelSpeed                           0.149522\n",
      "VertRelAngle                       0.149522\n",
      "HorzRelAngle                       0.149522\n",
      "                                    ...    \n",
      "HitLaunchConfidence               75.657895\n",
      "HitLandingConfidence              75.657895\n",
      "CatcherThrowCatchConfidence       96.471292\n",
      "CatcherThrowReleaseConfidence     96.471292\n",
      "CatcherThrowLocationConfidence    96.471292\n",
      "Length: 115, dtype: float64\n"
     ]
    },
    {
     "data": {
      "text/plain": [
       "(   PitchNo      Date  PAofInning  PitchofPA   PitcherId PitcherThrows  \\\n",
       " 0        1  2/9/2023           1          1  1000036206         Right   \n",
       " 1        2  2/9/2023           2          1  1000036206         Right   \n",
       " 2        3  2/9/2023           3          1  1000036206         Right   \n",
       " 3        4  2/9/2023           3          2  1000036206         Right   \n",
       " 4        5  2/9/2023           3          3  1000036206         Right   \n",
       " \n",
       "   PitcherTeam    BatterId BatterSide BatterTeam  ...  ThrowTrajectoryZc2  \\\n",
       " 0         T_A  1000102964      Right        T_B  ...                 NaN   \n",
       " 1         T_A     8886045       Left        T_B  ...                 NaN   \n",
       " 2         T_A  1000103136      Right        T_B  ...                 NaN   \n",
       " 3         T_A  1000103136      Right        T_B  ...                 NaN   \n",
       " 4         T_A  1000103136      Right        T_B  ...                 NaN   \n",
       " \n",
       "   PitchReleaseConfidence  PitchLocationConfidence  PitchMovementConfidence  \\\n",
       " 0                   High                     High                     High   \n",
       " 1                   High                     High                     High   \n",
       " 2                   High                     High                     High   \n",
       " 3                   High                     High                     High   \n",
       " 4                   High                     High                     High   \n",
       " \n",
       "    HitLaunchConfidence HitLandingConfidence CatcherThrowCatchConfidence  \\\n",
       " 0                 High                 High                         NaN   \n",
       " 1                  NaN                  NaN                         NaN   \n",
       " 2                  NaN                  NaN                         NaN   \n",
       " 3                  NaN                  NaN                         NaN   \n",
       " 4                  NaN                  NaN                         NaN   \n",
       " \n",
       "   CatcherThrowReleaseConfidence CatcherThrowLocationConfidence System  \n",
       " 0                           NaN                            NaN     v3  \n",
       " 1                           NaN                            NaN     v3  \n",
       " 2                           NaN                            NaN     v3  \n",
       " 3                           NaN                            NaN     v3  \n",
       " 4                           NaN                            NaN     v3  \n",
       " \n",
       " [5 rows x 141 columns],\n",
       " AutoPitchType                      0.179426\n",
       " AutoHitType                       81.848086\n",
       " RelSpeed                           0.149522\n",
       " VertRelAngle                       0.149522\n",
       " HorzRelAngle                       0.149522\n",
       "                                     ...    \n",
       " HitLaunchConfidence               75.657895\n",
       " HitLandingConfidence              75.657895\n",
       " CatcherThrowCatchConfidence       96.471292\n",
       " CatcherThrowReleaseConfidence     96.471292\n",
       " CatcherThrowLocationConfidence    96.471292\n",
       " Length: 115, dtype: float64)"
      ]
     },
     "execution_count": 2,
     "metadata": {},
     "output_type": "execute_result"
    }
   ],
   "source": [
    "import pandas as pd\n",
    "\n",
    "# Read the data\n",
    "baseball_data = pd.read_csv(\"Track_Combo.csv\")\n",
    "\n",
    "# Displaying dataset dimensions and types for each column\n",
    "print(\"Dimensions of the Dataset:\", baseball_data.shape)\n",
    "print(\"\\nFeature Names and Types:\\n\", baseball_data.dtypes)\n",
    "\n",
    "# Displaying the first few rows of the dataset\n",
    "display_head = baseball_data.head()\n",
    "\n",
    "# Checking for missing values and calculating the percentage\n",
    "missing_values = baseball_data.isnull().sum()\n",
    "percent_missing = (missing_values / len(baseball_data)) * 100\n",
    "missing_data_summary = percent_missing[percent_missing > 0]\n",
    "\n",
    "# Displaying columns with missing values and their percentage\n",
    "print(\"\\nColumns with Missing Values and Percentage:\\n\", missing_data_summary)\n",
    "\n",
    "# TODO: IDENTIFY HIGHLY CORRELATED FEATURES\n",
    "\n",
    "display_head, missing_data_summary\n"
   ]
  }
 ],
 "metadata": {
  "colab": {
   "provenance": []
  },
  "kernelspec": {
   "display_name": "Python 3",
   "name": "python3"
  },
  "language_info": {
   "codemirror_mode": {
    "name": "ipython",
    "version": 3
   },
   "file_extension": ".py",
   "mimetype": "text/x-python",
   "name": "python",
   "nbconvert_exporter": "python",
   "pygments_lexer": "ipython3",
   "version": "3.11.9"
  }
 },
 "nbformat": 4,
 "nbformat_minor": 0
}
